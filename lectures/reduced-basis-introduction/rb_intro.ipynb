{
 "cells": [
  {
   "cell_type": "code",
   "execution_count": null,
   "id": "5009b866",
   "metadata": {
    "editable": true,
    "slideshow": {
     "slide_type": ""
    }
   },
   "outputs": [],
   "source": [
    "# enable logging widget\n",
    "%load_ext pymor.discretizers.builtin.gui.jupyter"
   ]
  },
  {
   "cell_type": "code",
   "execution_count": null,
   "id": "b27dab9a",
   "metadata": {
    "editable": true,
    "slideshow": {
     "slide_type": ""
    }
   },
   "outputs": [],
   "source": [
    "%%html\n",
    "<style>\n",
    ".rise-enabled .jp-RenderedHTMLCommon table {\n",
    "         font-size: 150%;\n",
    "}\n",
    "\n",
    ".rise-enabled .jp-RenderedHTMLCommon p {\n",
    "    font-size: 1.5rem;\n",
    "}\n",
    "\n",
    ".rise-enabled .jp-RenderedHTMLCommon li {\n",
    "    font-size: 1.5rem;\n",
    "}\n",
    "\n",
    "\n",
    ".rise-enabled .jp-RenderedHTMLCommon h2 {\n",
    "    font-size: 2.9rem;\n",
    "    font-weight: bold;\n",
    "}\n",
    "\n",
    ".rise-enabled .jp-RenderedHTMLCommon h3 {\n",
    "    font-size: 2.0rem;\n",
    "    font-weight: bold;\n",
    "}\n",
    "\n",
    ".rise-enabled .jupyter-widget-Collapse-header {\n",
    "    font-size: 1rem;\n",
    "}\n",
    "\n",
    ".rise-enabled .jupyter-widget-Collapse-header i{\n",
    "    font-size: 1rem;\n",
    "}\n",
    "\n",
    ".rise-enabled .cm-editor {\n",
    "    font-size: 1.25rem;\n",
    "}\n",
    "</style>"
   ]
  },
  {
   "cell_type": "markdown",
   "id": "76796950",
   "metadata": {
    "editable": true,
    "slideshow": {
     "slide_type": "slide"
    }
   },
   "source": [
    "# Reduced Basis Methods with pyMOR"
   ]
  },
  {
   "cell_type": "markdown",
   "id": "c8592664",
   "metadata": {
    "editable": true,
    "slideshow": {
     "slide_type": ""
    }
   },
   "source": [
    "## Our Goal\n",
    "\n",
    "We want to do model order reduction (MOR) for parametric problems.\n",
    "\n",
    "This means:\n",
    "\n",
    "- We are given a full-order model (FOM), usually a PDE model, which depends on some set of parameters $\\mu \\in \\mathbb{R}^Q$.\n",
    "- We can simulate/solve the FOM for any given $\\mu$. But this is costly.\n",
    "- We want to simulate the model for many different $\\mu$.\n",
    "\n",
    "**Task:**\n",
    "\n",
    "- Replace the FOM by a surrogate reduced-order model (ROM).\n",
    "- The ROM should be much faster to simulate/solve.\n",
    "- The error between the ROM and FOM solution should be small and controllable.\n",
    "\n",
    "Note: In this tutorial we will only cover the mere basics of reduced basis (RB) methods. The approach has been extended to other types of models (systems, non-linear, inf-sup stable, outputs, ...) and is largely independent of the specific choice of discretization method."
   ]
  },
  {
   "cell_type": "markdown",
   "id": "c5184073",
   "metadata": {
    "editable": true,
    "slideshow": {
     "slide_type": "slide"
    }
   },
   "source": [
    "## Building the FOM"
   ]
  },
  {
   "cell_type": "markdown",
   "id": "2eb0cb5f",
   "metadata": {
    "editable": true,
    "slideshow": {
     "slide_type": "subslide"
    }
   },
   "source": [
    "### Thermal-block problem\n",
    "\n",
    "Find $u(x,\\mu)$ for $\\mu\\in\\mathcal{P}$ such that\n",
    "\n",
    "$$\n",
    "\\begin{align*}\n",
    "-\\nabla \\cdot [d(x, \\mu) \\nabla u(x,\\mu)] &= f(x) & x &\\in \\Omega, \\\\\n",
    "u(x,\\mu) &= 0 & x &\\in \\partial \\Omega,\n",
    "\\end{align*}\n",
    "$$\n",
    "\n",
    "where $\\Omega := [0,1]^2 = \\Omega_1 \\cup \\Omega_2 \\cup \\Omega_3 \\cup \\Omega_4$, $f \\in L^2(\\Omega)$,\n",
    "\n",
    "\n",
    "$$\n",
    "d(x, \\mu) \\equiv \\mu_i \\quad x \\in \\Omega_i\n",
    "$$\n",
    "\n",
    "and $\\mu \\in [\\mu_{\\min}, \\mu_{\\max}]^4$.\n",
    "\n",
    "\n",
    "```\n",
    "        (0,1)-----------------(1,1)\n",
    "        |            |            |\n",
    "        |            |            |\n",
    "        |     μ_2    |     μ_3    |\n",
    "        |            |            |\n",
    "        |            |            |\n",
    "        |--------------------------\n",
    "        |            |            |\n",
    "        |            |            |\n",
    "        |     μ_0    |     μ_1    |\n",
    "        |            |            |\n",
    "        |            |            |\n",
    "        (0,0)-----------------(1,0)\n",
    "```"
   ]
  },
  {
   "cell_type": "markdown",
   "id": "101298c6",
   "metadata": {
    "editable": true,
    "slideshow": {
     "slide_type": "subslide"
    }
   },
   "source": [
    "### Setting up an analytical description of the thermal block problem\n",
    "\n",
    "The thermal block problem already comes with pyMOR:"
   ]
  },
  {
   "cell_type": "code",
   "execution_count": null,
   "id": "5950c439",
   "metadata": {
    "editable": true,
    "slideshow": {
     "slide_type": ""
    }
   },
   "outputs": [],
   "source": [
    "from pymor.basic import *\n",
    "p = thermal_block_problem([2,2])"
   ]
  },
  {
   "cell_type": "markdown",
   "id": "a07a9f72",
   "metadata": {
    "editable": true,
    "slideshow": {
     "slide_type": "fragment"
    }
   },
   "source": [
    "Our problem is parameterized:"
   ]
  },
  {
   "cell_type": "code",
   "execution_count": null,
   "id": "09379efe",
   "metadata": {
    "editable": true,
    "slideshow": {
     "slide_type": ""
    }
   },
   "outputs": [],
   "source": [
    "p.parameters"
   ]
  },
  {
   "cell_type": "markdown",
   "id": "bc3ccf51",
   "metadata": {
    "editable": true,
    "slideshow": {
     "slide_type": "subslide"
    }
   },
   "source": [
    "### Looking at the definition\n",
    "\n",
    "We can easily look at the definition of `p` by printing its `repr`:"
   ]
  },
  {
   "cell_type": "code",
   "execution_count": null,
   "id": "2da548aa",
   "metadata": {
    "editable": true,
    "slideshow": {
     "slide_type": ""
    }
   },
   "outputs": [],
   "source": [
    "p"
   ]
  },
  {
   "cell_type": "markdown",
   "id": "6b998b31",
   "metadata": {
    "editable": true,
    "slideshow": {
     "slide_type": ""
    }
   },
   "source": [
    "It is easy to [build custom problem definitions](https://docs.pymor.org/latest/tutorial_builtin_discretizer.html)."
   ]
  },
  {
   "cell_type": "markdown",
   "id": "d4a3cc03",
   "metadata": {
    "editable": true,
    "slideshow": {
     "slide_type": "subslide"
    }
   },
   "source": [
    "### Weak formulation\n",
    "\n",
    "Find $u(\\mu) \\in H^1_0(\\Omega)$ such that\n",
    "\n",
    "$$\n",
    "\\underbrace{\\int_\\Omega d(x, \\mu(x)) \\nabla u(x, \\mu) \\cdot \\nabla v(x) \\,dx}\n",
    "    _{=:a(u(\\mu), v; \\mu)}\n",
    "= \\underbrace{\\int_\\Omega f(x)v(x) \\,dx}\n",
    "    _{=:\\ell(v)}\n",
    "    \\qquad \\forall v \\in H^1_0(\\Omega).\n",
    "$$"
   ]
  },
  {
   "cell_type": "markdown",
   "id": "3fe3b9b4",
   "metadata": {
    "editable": true,
    "slideshow": {
     "slide_type": "fragment"
    }
   },
   "source": [
    "### Galerkin projection onto finite-element space\n",
    "\n",
    "Let $\\mathcal{T}_h$ be an admissible triangulation of $\\Omega$ and $V_h:=\\mathcal{S}_{h,0}^1(\\mathcal{T}_h)$ the corresponding space of piece-wise linear finite-element functions over $\\mathcal{T}_h$ which vanish at $\\partial\\Omega$.\n",
    "The finite-element approximation $u_h(\\mu) \\in V_h$ is then given by\n",
    "\n",
    "\n",
    "$$\n",
    "    a(u_h(\\mu), v;\\mu) = \\ell(v_h)\n",
    "    \\qquad \\forall v_h \\in V_h.\n",
    "$$\n",
    "\n",
    "Céa's Lemma states that $u_h(\\mu)$ is a quasi-best approximation of $u(\\mu)$ in $V_h$:\n",
    "\n",
    "$$\n",
    "    \\|\\nabla u(\\mu) - \\nabla u_h(\\mu)\\|_{L^2(\\Omega)}\n",
    "    \\leq \\frac{\\mu_{max}}{\\mu_{min}} \\inf_{v_h \\in V_h} \\|\\nabla u(\\mu) - \\nabla v_h\\|_{L^2(\\Omega)}.\n",
    "$$"
   ]
  },
  {
   "cell_type": "markdown",
   "id": "7894d03d",
   "metadata": {
    "editable": true,
    "slideshow": {
     "slide_type": "subslide"
    }
   },
   "source": [
    "### Linear system assembly\n",
    "\n",
    "Let $\\varphi_{h,1}, \\ldots, \\varphi_{h,n}$ be the finite-element basis of $\\mathcal{S}_{h,0}^1(\\mathcal{T}_h)$.\n",
    "Let $A(\\mu) \\in \\mathbb{R}^{n\\times n}$, $\\underline{\\ell} \\in \\mathbb{R}^n$ be given by\n",
    "\n",
    "$$\n",
    "    A(\\mu)_{j,i} := a(\\varphi_{h,i}, \\varphi_{h,j};\\mu) \\qquad\n",
    "    \\underline \\ell_j := \\ell(\\varphi_{h,j}).\n",
    "$$\n",
    "\n",
    "Then with\n",
    "$$\n",
    "    u_h(\\mu) = \\sum_{i=1}^{n} \\underline{u}_h(\\mu)_i \\cdot \\varphi_{h,i},\n",
    "$$\n",
    "\n",
    "we get\n",
    "\n",
    "$$\n",
    "    A(\\mu) \\cdot \\underline{u}_h(\\mu) = \\underline{\\ell}.\n",
    "$$\n",
    "\n",
    "Note that $A(\\mu)$ is a sparse matrix."
   ]
  },
  {
   "cell_type": "markdown",
   "id": "58dd7f9b",
   "metadata": {
    "editable": true,
    "slideshow": {
     "slide_type": "subslide"
    }
   },
   "source": [
    "### FOM assembly with pyMOR\n",
    "\n",
    "We use the builtin discretizer `discretize_stationary_cg` to compute a finite-element discretization of the problem:"
   ]
  },
  {
   "cell_type": "code",
   "execution_count": null,
   "id": "c2bee07b",
   "metadata": {
    "editable": true,
    "slideshow": {
     "slide_type": ""
    }
   },
   "outputs": [],
   "source": [
    "fom, data = discretize_stationary_cg(p, diameter=1/100)"
   ]
  },
  {
   "cell_type": "markdown",
   "id": "34eacb00",
   "metadata": {
    "editable": true,
    "slideshow": {
     "slide_type": "fragment"
    }
   },
   "source": [
    "`fom` is a `Model`. It has the same `Parameters` as `p`:"
   ]
  },
  {
   "cell_type": "code",
   "execution_count": null,
   "id": "af551715",
   "metadata": {
    "editable": true,
    "slideshow": {
     "slide_type": ""
    }
   },
   "outputs": [],
   "source": [
    "fom.parameters"
   ]
  },
  {
   "cell_type": "markdown",
   "id": "fb3e4948",
   "metadata": {
    "editable": true,
    "slideshow": {
     "slide_type": "subslide"
    }
   },
   "source": [
    "### Solving the FOM\n",
    "\n",
    "To `solve` the FOM, we need to specify values for those parameters:"
   ]
  },
  {
   "cell_type": "code",
   "execution_count": null,
   "id": "fd1714d9",
   "metadata": {
    "editable": true,
    "slideshow": {
     "slide_type": ""
    }
   },
   "outputs": [],
   "source": [
    "U = fom.solve({'diffusion': [1., 0.01, 0.1, 1]})"
   ]
  },
  {
   "cell_type": "markdown",
   "id": "a7c0b863",
   "metadata": {
    "editable": true,
    "slideshow": {
     "slide_type": "fragment"
    }
   },
   "source": [
    "`U` is a `VectorArray`, an ordered collection of vectors of the same dimension:"
   ]
  },
  {
   "cell_type": "code",
   "execution_count": null,
   "id": "eda4dd1c",
   "metadata": {
    "editable": true,
    "slideshow": {
     "slide_type": ""
    }
   },
   "outputs": [],
   "source": [
    "U"
   ]
  },
  {
   "cell_type": "markdown",
   "id": "44dbc45d",
   "metadata": {
    "editable": true,
    "slideshow": {
     "slide_type": ""
    }
   },
   "source": [
    "`U` only contains a single vector:"
   ]
  },
  {
   "cell_type": "code",
   "execution_count": null,
   "id": "c211cdb9",
   "metadata": {
    "editable": true,
    "slideshow": {
     "slide_type": ""
    }
   },
   "outputs": [],
   "source": [
    "len(U)"
   ]
  },
  {
   "cell_type": "markdown",
   "id": "6f207a4b",
   "metadata": {
    "editable": true,
    "slideshow": {
     "slide_type": ""
    }
   },
   "source": [
    "For a time-dependent problem, `U` would have contained a time-series of vectors. `U` corresponds to the coefficient vector $\\underline{u}_h(\\mu)$."
   ]
  },
  {
   "cell_type": "markdown",
   "id": "04b921e9",
   "metadata": {
    "editable": true,
    "slideshow": {
     "slide_type": "subslide"
    }
   },
   "source": [
    "### Looking at the solution\n",
    "\n",
    "We can use the `visualize` method to plot the solution:"
   ]
  },
  {
   "cell_type": "code",
   "execution_count": null,
   "id": "ed22fd7f",
   "metadata": {
    "editable": true,
    "slideshow": {
     "slide_type": ""
    }
   },
   "outputs": [],
   "source": [
    "fom.visualize(U)"
   ]
  },
  {
   "cell_type": "markdown",
   "id": "edb3e327",
   "metadata": {
    "editable": true,
    "slideshow": {
     "slide_type": "subslide"
    }
   },
   "source": [
    "### Your turn\n",
    "\n",
    "- Define a 2x3 thermal-block problem.\n",
    "- Build the FOM using pyMOR's builtin discretization toolkit over a mesh with element diameter 1/20.\n",
    "- Solve the FOM for some parameter and visualize the solution."
   ]
  },
  {
   "cell_type": "code",
   "execution_count": null,
   "id": "3752efaf",
   "metadata": {
    "editable": true,
    "slideshow": {
     "slide_type": ""
    }
   },
   "outputs": [],
   "source": [
    "p23 = ...\n",
    "fom23 = ...\n",
    "U23 = ..."
   ]
  },
  {
   "cell_type": "markdown",
   "id": "0cb31c3d",
   "metadata": {
    "editable": true,
    "slideshow": {
     "slide_type": "subslide"
    }
   },
   "source": [
    "### Parameter separability\n",
    "\n",
    "Remember the special form of $a(\\cdot, \\cdot; \\mu)$:\n",
    "\n",
    "$$\n",
    "\\begin{align}\n",
    "    a(u, v; \\mu) &:= \\int_\\Omega d(x, \\mu) \\nabla u(x) \\cdot \\nabla v(x) \\,dx \\\\\n",
    "    &:=\\int_\\Omega \\Bigl(\\sum_{q=1}^Q \\mu_q \\mathbb{1}_q(x)\\Bigr) \\nabla u(x) \\cdot \\nabla v(x) \\,dx \\\\\n",
    "    &:=\\sum_{q=1}^Q  \\ \\underbrace{\\mu_q}_{:=\\theta_q(\\mu)} \\ \\ \n",
    "        \\underbrace{\\int_\\Omega \\mathbb{1}_q(x) \\nabla u(x) \\cdot \\nabla v(x) \\,dx}_{=:a_q(u,v)}.\n",
    "\\end{align}\n",
    "$$\n",
    "\n",
    "Hence, $a(\\cdot, \\cdot; \\mu)$ admits the affine decomposition\n",
    "\n",
    "$$\n",
    "    a(u, v; \\mu) = \\sum_{q=1}^Q \\theta_q(\\mu) \\cdot a_q(u,v).\n",
    "$$\n",
    "\n",
    "Consequently, for $A(\\mu)$ we have the same structure:\n",
    "\n",
    "$$\n",
    "    A(\\mu) = \\sum_{q=1}^Q \\theta_q(\\mu) \\cdot A_q,\n",
    "$$\n",
    "\n",
    "where $(A_q)_{j,i} := a_q(\\varphi_{h,i}, \\varphi_{h,j})$."
   ]
  },
  {
   "cell_type": "markdown",
   "id": "a4ae75c8",
   "metadata": {
    "editable": true,
    "slideshow": {
     "slide_type": "subslide"
    }
   },
   "source": [
    "### Parameter-separable FOM\n",
    "\n",
    "Remember that our problem definition encoded the affine decomposition of $d(x, \\mu)$ using a `LincombFunction`:"
   ]
  },
  {
   "cell_type": "code",
   "execution_count": null,
   "id": "66a79ee1",
   "metadata": {
    "editable": true,
    "slideshow": {
     "slide_type": ""
    }
   },
   "outputs": [],
   "source": [
    "p.diffusion"
   ]
  },
  {
   "cell_type": "markdown",
   "id": "757acefb",
   "metadata": {
    "editable": true,
    "slideshow": {
     "slide_type": "subslide"
    }
   },
   "source": [
    "pyMOR's builtin `discretizer` automatically preserves this structure when assembling the system matrices. Let's look at the `fom` in more detail. The system matrix $A(\\mu)$ is stored in the `Model`'s `operator` attribute:"
   ]
  },
  {
   "cell_type": "code",
   "execution_count": null,
   "id": "bb223e62",
   "metadata": {
    "editable": true,
    "slideshow": {
     "slide_type": ""
    }
   },
   "outputs": [],
   "source": [
    "fom.operator"
   ]
  },
  {
   "cell_type": "markdown",
   "id": "9ba58fce",
   "metadata": {
    "editable": true,
    "slideshow": {
     "slide_type": ""
    }
   },
   "source": [
    "We see that the `LincombFunction` has become a `LincombOperator` of `NumpyMatrixOperators`.\n",
    "pyMOR always interprets matrices as linear `Operators`."
   ]
  },
  {
   "cell_type": "markdown",
   "id": "d75f6b37",
   "metadata": {
    "editable": true,
    "slideshow": {
     "slide_type": "subslide"
    }
   },
   "source": [
    "The right-hand side vector $\\underline{\\ell}$ is stored in the `rhs` attribute:"
   ]
  },
  {
   "cell_type": "code",
   "execution_count": null,
   "id": "d7b2c3a0",
   "metadata": {
    "editable": true,
    "slideshow": {
     "slide_type": ""
    }
   },
   "outputs": [],
   "source": [
    "fom.rhs"
   ]
  },
  {
   "cell_type": "markdown",
   "id": "64ae235a",
   "metadata": {
    "editable": true,
    "slideshow": {
     "slide_type": ""
    }
   },
   "source": [
    "`fom.rhs` is not a `VectorArray` but a vector-like operator in order to support parameter-dependent right-hand sides. Only `Operators` can depend on a parameter in `pyMOR`, not `VectorArrays`."
   ]
  },
  {
   "cell_type": "markdown",
   "id": "a1ec7642",
   "metadata": {
    "editable": true,
    "slideshow": {
     "slide_type": "subslide"
    }
   },
   "source": [
    "### Other ways of obtaining the FOM\n",
    "\n",
    "> Using an `analyticalproblem` and a `discretizer` is just one way\n",
    "  to build the FOM.\n",
    ">  \n",
    "> Everything that follows works the same for a FOM that is built using an external PDE solver."
   ]
  },
  {
   "cell_type": "markdown",
   "id": "636e5d16",
   "metadata": {
    "editable": true,
    "slideshow": {
     "slide_type": "slide"
    }
   },
   "source": [
    "## VectorArrays and Operators"
   ]
  },
  {
   "cell_type": "markdown",
   "id": "a7bc58e0",
   "metadata": {
    "editable": true,
    "slideshow": {
     "slide_type": "subslide"
    }
   },
   "source": [
    "### Some words about VectorArrays\n",
    "\n",
    "Each `VectorArray` has a length, i.e, the number of vectors in the array:"
   ]
  },
  {
   "cell_type": "code",
   "execution_count": null,
   "id": "e1f3b89a",
   "metadata": {
    "editable": true,
    "slideshow": {
     "slide_type": ""
    }
   },
   "outputs": [],
   "source": [
    "len(U)"
   ]
  },
  {
   "cell_type": "markdown",
   "id": "166d2b04",
   "metadata": {
    "editable": true,
    "slideshow": {
     "slide_type": "fragment"
    }
   },
   "source": [
    "> There is not the notion of a single vector in pyMOR! Don't try to get hold of one!"
   ]
  },
  {
   "cell_type": "markdown",
   "id": "7a8a8dfb",
   "metadata": {
    "editable": true,
    "slideshow": {
     "slide_type": "fragment"
    }
   },
   "source": [
    "Its dimension is the *uniform* size of each vector in the array:"
   ]
  },
  {
   "cell_type": "code",
   "execution_count": null,
   "id": "a5ee36b7",
   "metadata": {
    "editable": true,
    "slideshow": {
     "slide_type": ""
    }
   },
   "outputs": [],
   "source": [
    "U.dim"
   ]
  },
  {
   "cell_type": "markdown",
   "id": "d293500e",
   "metadata": {
    "editable": true,
    "slideshow": {
     "slide_type": "subslide"
    }
   },
   "source": [
    "When using pyMOR's builtin discretizations, we use `NumpyVectorArrays`:"
   ]
  },
  {
   "cell_type": "code",
   "execution_count": null,
   "id": "c4cdba24",
   "metadata": {
    "editable": true,
    "slideshow": {
     "slide_type": ""
    }
   },
   "outputs": [],
   "source": [
    "type(U)"
   ]
  },
  {
   "cell_type": "markdown",
   "id": "04b032f9",
   "metadata": {
    "editable": true,
    "slideshow": {
     "slide_type": ""
    }
   },
   "source": [
    "These arrays internally store their vectors using a 2d `NumPy` array:"
   ]
  },
  {
   "cell_type": "code",
   "execution_count": null,
   "id": "df6ec92b",
   "metadata": {
    "editable": true,
    "slideshow": {
     "slide_type": ""
    }
   },
   "outputs": [],
   "source": [
    "U.impl._array"
   ]
  },
  {
   "cell_type": "markdown",
   "id": "29f308f1",
   "metadata": {
    "editable": true,
    "slideshow": {
     "slide_type": ""
    }
   },
   "source": [
    "When using an external PDE solver for the FOM, we usually use `ListVectorArrays`, which manage a Python list of vector objects that directly correspond to vector data in the PDE solvers memory."
   ]
  },
  {
   "cell_type": "markdown",
   "id": "c0af313e",
   "metadata": {
    "editable": true,
    "slideshow": {
     "slide_type": "subslide"
    }
   },
   "source": [
    "### Supported Operations\n",
    "\n",
    "|                  |                                                         |\n",
    "| :-               | :-                                                      |\n",
    "| `append`         | append vectors from another array                       |\n",
    "| `+`/`-`/`*`      | element-wise addition/subtraction/scalar multiplication |\n",
    "| `inner`          | matrix of inner products between all vectors            |\n",
    "| `pairwise_inner` | list of pairwise inner products                         |\n",
    "| `norm`           | list of norms                                           |\n",
    "| `lincomb`        | linear combination of the vectors in the array          |\n",
    "| `scal`           | in-place scalar multiplication                          |\n",
    "| `axpy`           | in-place BLAS axpy operation                            |\n",
    "| `dofs`           | return a few degrees of freedom as NumPy array          |"
   ]
  },
  {
   "cell_type": "markdown",
   "id": "4be55e9e",
   "metadata": {
    "editable": true,
    "slideshow": {
     "slide_type": "subslide"
    }
   },
   "source": [
    "### Playing a bit with VectorArrays\n",
    "\n",
    "It is important to note that `VectorArrays` are never instantiated directly. All `VectorArrays` are created by their `VectorSpace`:"
   ]
  },
  {
   "cell_type": "code",
   "execution_count": null,
   "id": "09faef8b",
   "metadata": {
    "editable": true,
    "slideshow": {
     "slide_type": ""
    }
   },
   "outputs": [],
   "source": [
    "V = fom.solution_space.empty()"
   ]
  },
  {
   "cell_type": "markdown",
   "id": "54db3a75",
   "metadata": {
    "editable": true,
    "slideshow": {
     "slide_type": ""
    }
   },
   "source": [
    "Let's accumulate some solutions:"
   ]
  },
  {
   "cell_type": "code",
   "execution_count": null,
   "id": "03cf16ee",
   "metadata": {
    "editable": true,
    "slideshow": {
     "slide_type": ""
    }
   },
   "outputs": [],
   "source": [
    "for mu in p.parameter_space.sample_randomly(10):\n",
    "    V.append(fom.solve(mu))"
   ]
  },
  {
   "cell_type": "markdown",
   "id": "f70926a1",
   "metadata": {
    "editable": true,
    "slideshow": {
     "slide_type": ""
    }
   },
   "source": [
    "Indeed, `V` now contains 10 vectors:"
   ]
  },
  {
   "cell_type": "code",
   "execution_count": null,
   "id": "dd748564",
   "metadata": {
    "editable": true,
    "slideshow": {
     "slide_type": ""
    }
   },
   "outputs": [],
   "source": [
    "len(V)"
   ]
  },
  {
   "cell_type": "markdown",
   "id": "94987794",
   "metadata": {
    "editable": true,
    "slideshow": {
     "slide_type": "subslide"
    }
   },
   "source": [
    "We can visualize all the solutions as a time series:"
   ]
  },
  {
   "cell_type": "code",
   "execution_count": null,
   "id": "21a2615b",
   "metadata": {
    "editable": true,
    "slideshow": {
     "slide_type": ""
    }
   },
   "outputs": [],
   "source": [
    "fom.visualize(V)"
   ]
  },
  {
   "cell_type": "markdown",
   "id": "c2858477",
   "metadata": {
    "editable": true,
    "slideshow": {
     "slide_type": "subslide"
    }
   },
   "source": [
    "### Your turn\n",
    "\n",
    "- Compute the (Euclidean) norms of the vectors in `V` using the `norm` method.\n",
    "- Compute all pairwise inner products between the vectors in `V` using the `inner` method.\n",
    "- Compute the sum of all vectors in `V` using the `lincomb` method."
   ]
  },
  {
   "cell_type": "code",
   "execution_count": null,
   "id": "c85be1db",
   "metadata": {
    "editable": true,
    "slideshow": {
     "slide_type": ""
    }
   },
   "outputs": [],
   "source": [
    "# your code here"
   ]
  },
  {
   "cell_type": "markdown",
   "id": "b231c021",
   "metadata": {
    "editable": true,
    "slideshow": {
     "slide_type": "subslide"
    }
   },
   "source": [
    "### Indexing\n",
    "We can index a `VectorArray` using numbers, sequences of numbers, or slices, e.g.:"
   ]
  },
  {
   "cell_type": "code",
   "execution_count": null,
   "id": "1d60dda2",
   "metadata": {
    "editable": true,
    "slideshow": {
     "slide_type": ""
    }
   },
   "outputs": [],
   "source": [
    "V_indexed = V[3:6]"
   ]
  },
  {
   "cell_type": "markdown",
   "id": "1253264a",
   "metadata": {
    "editable": true,
    "slideshow": {
     "slide_type": ""
    }
   },
   "source": [
    "Indexing **always** creates a **view** into the original array:"
   ]
  },
  {
   "cell_type": "code",
   "execution_count": null,
   "id": "9854fb02",
   "metadata": {
    "editable": true,
    "slideshow": {
     "slide_type": ""
    }
   },
   "outputs": [],
   "source": [
    "print(V_indexed.is_view)\n",
    "V_indexed *= 0\n",
    "V.norm()"
   ]
  },
  {
   "cell_type": "markdown",
   "id": "22bd5cd9",
   "metadata": {
    "editable": true,
    "slideshow": {
     "slide_type": "subslide"
    }
   },
   "source": [
    "### Operators can be applied to VectorArrays\n",
    "\n",
    "To apply a pyMOR `Operator` to a given input `VectorArray`, we use the `Operator`'s apply method:"
   ]
  },
  {
   "cell_type": "code",
   "execution_count": null,
   "id": "9f5d086e",
   "metadata": {
    "editable": true,
    "slideshow": {
     "slide_type": ""
    }
   },
   "outputs": [],
   "source": [
    "fom.operator.apply(V, mu=[1,2,3,4])"
   ]
  },
  {
   "cell_type": "markdown",
   "id": "32451d22",
   "metadata": {
    "editable": true,
    "slideshow": {
     "slide_type": "subslide"
    }
   },
   "source": [
    "We did something wrong here. pyMOR complains that `mu`, the values for the parameters, is not a `Mu` instance. Except for high-level interface methods like `solve`, parameter values *always* need to be passed as `Mu` objects. We follow pyMOR's advice:"
   ]
  },
  {
   "cell_type": "code",
   "execution_count": null,
   "id": "8ec0c4c5",
   "metadata": {
    "editable": true,
    "slideshow": {
     "slide_type": ""
    }
   },
   "outputs": [],
   "source": [
    "W = fom.operator.apply(V, mu=fom.parameters.parse([1,2,3,4]))"
   ]
  },
  {
   "cell_type": "markdown",
   "id": "1a88e0de",
   "metadata": {
    "editable": true,
    "slideshow": {
     "slide_type": "fragment"
    }
   },
   "source": [
    "`apply` loops over all vectors in `V` and applies the operator individually to each vector. For a matrix operator, this corresponds to a matrix-vector product. The result is a new `VectorArray` of the same length from the `range` `VectorSpace` of the `Operator`:"
   ]
  },
  {
   "cell_type": "code",
   "execution_count": null,
   "id": "2a934424",
   "metadata": {
    "editable": true,
    "slideshow": {
     "slide_type": ""
    }
   },
   "outputs": [],
   "source": [
    "print(len(V))\n",
    "print(V in fom.operator.range)"
   ]
  },
  {
   "cell_type": "markdown",
   "id": "9f5678e4",
   "metadata": {
    "editable": true,
    "slideshow": {
     "slide_type": "subslide"
    }
   },
   "source": [
    "### Is the solution really a solution?\n",
    "\n",
    "We compute the residual:"
   ]
  },
  {
   "cell_type": "code",
   "execution_count": null,
   "id": "5e8ac266",
   "metadata": {
    "editable": true,
    "slideshow": {
     "slide_type": ""
    }
   },
   "outputs": [],
   "source": [
    "mu = fom.parameters.parse([1., 0.01, 0.1, 1])\n",
    "U = fom.solve(mu)\n",
    "(fom.operator.apply(U, mu=mu) - fom.rhs.as_vector(mu)).norm()"
   ]
  },
  {
   "cell_type": "markdown",
   "id": "b48b71a4",
   "metadata": {
    "editable": true,
    "slideshow": {
     "slide_type": ""
    }
   },
   "source": [
    "We used `as_vector` here to convert the right-hand side operator of the `Model` to a corresponding `VectorArray`.\n",
    "\n",
    "> If you implement a new `Model`, make sure that `solve` really returns solutions with zero residual!"
   ]
  },
  {
   "cell_type": "markdown",
   "id": "5ee6f749",
   "metadata": {
    "editable": true,
    "slideshow": {
     "slide_type": "slide"
    }
   },
   "source": [
    "## Reduced basis methods"
   ]
  },
  {
   "cell_type": "markdown",
   "id": "e98f8c81",
   "metadata": {
    "editable": true,
    "slideshow": {
     "slide_type": "subslide"
    }
   },
   "source": [
    "### Projection-based MOR\n",
    "\n",
    "Going back to the definition of the FOM\n",
    "\n",
    "$$\n",
    "    a(u_h(\\mu), v; \\mu) = \\ell(v_h) \\qquad \\forall v_h \\in V_h,\n",
    "$$\n",
    "\n",
    "our MOR approach is based on the idea of replacing the generic finite-element space $V_h$ by a problem-adapted reduced space $V_N$ of low dimension. I.e., we simply define our ROM by a Galerkin projection of the solution onto the reduced space $V_N$. So the reduced approximation $u_N(\\mu) \\in V_N$ of $u_h(\\mu)\\in V_h$ is given as the solution of\n",
    "\n",
    "$$\n",
    "    a(u_N(\\mu), v_N; \\mu) = \\ell(v_N) \\qquad \\forall v_N \\in V_N.\n",
    "$$\n",
    "\n",
    "Again, we can apply Céa's Lemma:\n",
    "\n",
    "$$\n",
    "    \\|\\nabla u_h(\\mu) - \\nabla u_N(\\mu)\\|_{L^2(\\Omega)}\n",
    "    \\leq \\frac{\\mu_{max}}{\\mu_{min}} \\inf_{\\color{red}v_N \\in V_N} \\|\\nabla u_h(\\mu) - \\nabla v_N\\|_{L^2(\\Omega)}.\n",
    "$$"
   ]
  },
  {
   "cell_type": "markdown",
   "id": "49d86348",
   "metadata": {
    "editable": true,
    "slideshow": {
     "slide_type": "subslide"
    }
   },
   "source": [
    "### Does a good reduced space $V_N$ exist?\n",
    "\n",
    "Thanks to Céa's lemma, our only job is to come up with a good low-dimensional approximation space $V_N$. In RB methods, our definition of 'good' is usually that we want to miminize the worst-case best-approximation error over all parameters $\\mu \\in \\mathcal{P}$. I.e.,\n",
    "\n",
    "$$\n",
    "    \\sup_{\\mu \\in \\mathcal{P}} \\inf_{v_N \\in V_N} \\|\\nabla u_h(\\mu) - \\nabla v_N\\|_{L^2(\\Omega)}\n",
    "$$\n",
    "\n",
    "should not be much larger than the Kolmogorov $N$-width\n",
    "\n",
    "$$\n",
    "    d_N:=\\inf_{\\substack{V'_N \\subset V_h\\\\ \\dim V'_N \\leq N}}\\sup_{\\mu \\in \\mathcal{P}} \\inf_{v'_N \\in V'_N} \\|\\nabla u_h(\\mu) - \\nabla v'_N\\|_{L^2(\\Omega)}.\n",
    "$$\n",
    "\n",
    "We won't go into details here, but it can be shown that for parameter-separable coercive problems like the thermal-block problem, the Kolmogorov $N$-widths decay at a subexponential rate, so good reduced spaces $V_N$ of small dimension $N$ do exist."
   ]
  },
  {
   "cell_type": "markdown",
   "id": "8ab100d0",
   "metadata": {
    "editable": true,
    "slideshow": {
     "slide_type": "subslide"
    }
   },
   "source": [
    "### Snapshot-based MOR\n",
    "\n",
    "The question remains how to find a good $V_N$ algorithmically. RB methods are snapshot based which means that $V_N$ is constructed from 'solution snapshots' $u_{h}(\\mu_i)$ of the FOM, i.e.\n",
    "\n",
    "$$\n",
    "    V_N := \\operatorname{span} \\{u_h(\\mu_1), \\ldots, u_h(\\mu_N)\\}.\n",
    "$$\n",
    "\n",
    "We will start by just randomly picking some snapshot parameters $\\mu_i\\in\\mathcal{P}$:"
   ]
  },
  {
   "cell_type": "code",
   "execution_count": null,
   "id": "e7baa4dd",
   "metadata": {
    "editable": true,
    "slideshow": {
     "slide_type": ""
    }
   },
   "outputs": [],
   "source": [
    "snapshot_parameters = p.parameter_space.sample_randomly(10)\n",
    "snapshots = fom.solution_space.empty()\n",
    "for mu in snapshot_parameters:\n",
    "    snapshots.append(fom.solve(mu))"
   ]
  },
  {
   "cell_type": "markdown",
   "id": "265ae386",
   "metadata": {
    "editable": true,
    "slideshow": {
     "slide_type": "fragment"
    }
   },
   "source": [
    "For numerical stability, it's a good idea to orthonormalize the basis:"
   ]
  },
  {
   "cell_type": "code",
   "execution_count": null,
   "id": "ee4c8345",
   "metadata": {
    "editable": true,
    "slideshow": {
     "slide_type": ""
    }
   },
   "outputs": [],
   "source": [
    "basis = gram_schmidt(snapshots)"
   ]
  },
  {
   "cell_type": "markdown",
   "id": "b654d3fb",
   "metadata": {
    "editable": true,
    "slideshow": {
     "slide_type": "subslide"
    }
   },
   "source": [
    "### Is our basis any good?\n",
    "\n",
    "Let's see if we actually constructed a good approximation space by computing the best-approximation error in this space for some further random solution snapshot. We can do so via orthogonal projection:"
   ]
  },
  {
   "cell_type": "code",
   "execution_count": null,
   "id": "8a4e2998",
   "metadata": {
    "editable": true,
    "slideshow": {
     "slide_type": ""
    }
   },
   "outputs": [],
   "source": [
    "U_test = fom.solve(p.parameter_space.sample_randomly())\n",
    "coeffs = U_test.inner(basis)\n",
    "U_test_proj = basis.lincomb(coeffs)\n",
    "fom.visualize((U_test, U_test_proj, U_test-U_test_proj),\n",
    "              legend=('U', 'projection', 'error'),\n",
    "              separate_colorbars=True)"
   ]
  },
  {
   "cell_type": "markdown",
   "id": "1a315abf",
   "metadata": {
    "editable": true,
    "slideshow": {
     "slide_type": "subslide"
    }
   },
   "source": [
    "Let's also compute the norm of the error:"
   ]
  },
  {
   "cell_type": "code",
   "execution_count": null,
   "id": "19afbfdf",
   "metadata": {
    "editable": true,
    "slideshow": {
     "slide_type": ""
    }
   },
   "outputs": [],
   "source": [
    "(U_test - U_test_proj).norm().item() / U_test.norm().item()"
   ]
  },
  {
   "cell_type": "markdown",
   "id": "5ab8d72e",
   "metadata": {
    "editable": true,
    "slideshow": {
     "slide_type": "subslide"
    }
   },
   "source": [
    "### Your turn\n",
    "\n",
    "- Generate a plot 'projection error' vs. 'basis size'.\n",
    "- Use `VectorArray` slicing to project onto the first $k$ vectors in `basis`. (There are other ways.)\n",
    "- Use `matplotlib.pyplot.semilogy`."
   ]
  },
  {
   "cell_type": "code",
   "execution_count": null,
   "id": "bf26e4b8",
   "metadata": {
    "editable": true,
    "slideshow": {
     "slide_type": ""
    }
   },
   "outputs": [],
   "source": [
    "# your code here ..."
   ]
  },
  {
   "cell_type": "markdown",
   "id": "b5a497bb",
   "metadata": {
    "editable": true,
    "slideshow": {
     "slide_type": "subslide"
    }
   },
   "source": [
    "### Assembling the reduced system matrix\n",
    "\n",
    "In order to compute a reduced solution, we need to choose a reduced basis $\\psi_{1}, \\ldots, \\psi_{N}$ of $V_N$ and assemble the reduced system matrix $A_{N}(\\mu) \\in \\mathbb{R}^{N\\times N}$ and right-hand side vector $\\underline{\\ell}_N \\in \\mathbb{R}^N$ given by\n",
    "\n",
    "$$\n",
    "    A_N(\\mu)_{j,i} := a(\\psi_i, \\psi_j; \\mu) \\qquad\n",
    "    \\underline{\\ell}_{N,j} := \\ell(\\psi_j).\n",
    "$$\n",
    "\n",
    "Expanding each basis vector $\\psi_i$ w.r.t. the finite-element basis $\\varphi_{h,i}$,\n",
    "\n",
    "$$\n",
    "    \\psi_i = \\sum_{k=1}^N \\underline{\\psi}_{i,k} \\varphi_{h,k},\n",
    "$$\n",
    "\n",
    "we get\n",
    "\n",
    "$$\n",
    "    A_N(\\mu)_{i,j} = \\underline{\\psi}_i^{\\operatorname{T}} \\cdot A(\\mu) \\cdot \\underline{\\psi}_j.\n",
    "$$"
   ]
  },
  {
   "cell_type": "markdown",
   "id": "44fd740d",
   "metadata": {
    "editable": true,
    "slideshow": {
     "slide_type": "fragment"
    }
   },
   "source": [
    "Thus, we could compute $A_N(\\mu)$ in pyMOR using `W = fom.operator.apply(basis, mu=mu)` (multiplication from the right) and then using `basis.inner(W)` to multiply the basis from the left. We can use the `apply2` method as a (potentially more efficient) shorthand:"
   ]
  },
  {
   "cell_type": "code",
   "execution_count": null,
   "id": "8b432abb",
   "metadata": {
    "editable": true,
    "slideshow": {
     "slide_type": ""
    }
   },
   "outputs": [],
   "source": [
    "mu = p.parameter_space.sample_randomly()\n",
    "A_N = fom.operator.apply2(basis, basis, mu=mu)\n",
    "A_N.shape"
   ]
  },
  {
   "cell_type": "markdown",
   "id": "15365e10",
   "metadata": {
    "editable": true,
    "slideshow": {
     "slide_type": ""
    }
   },
   "source": [
    "Note that, contrary to the finite-element system matrix $A(\\mu)$, the reduced matrix $A_N(\\mu)$ is a dense but small matrix."
   ]
  },
  {
   "cell_type": "markdown",
   "id": "28beac6f",
   "metadata": {
    "editable": true,
    "slideshow": {
     "slide_type": "subslide"
    }
   },
   "source": [
    "### Assembling the reduced right-hand side\n",
    "\n",
    "For the right-hand side we have\n",
    "\n",
    "$$\n",
    "    \\underline{\\ell}_{N,j} = \\underline{\\psi}_j^{\\operatorname{T}} \\cdot \\underline{\\ell},\n",
    "$$\n",
    "\n",
    "which we compute using `inner`:"
   ]
  },
  {
   "cell_type": "code",
   "execution_count": null,
   "id": "5ac39cd0",
   "metadata": {
    "editable": true,
    "slideshow": {
     "slide_type": ""
    }
   },
   "outputs": [],
   "source": [
    "l_N = basis.inner(fom.rhs.as_vector())\n",
    "l_N.shape"
   ]
  },
  {
   "cell_type": "markdown",
   "id": "bf351651",
   "metadata": {
    "editable": true,
    "slideshow": {
     "slide_type": "subslide"
    }
   },
   "source": [
    "### Solving the reduced system\n",
    "\n",
    "Finally, writing\n",
    "\n",
    "$$\n",
    "    u_N(\\mu) = \\sum_{i=1}^N \\underline{u}_N(\\mu)_i \\cdot \\psi_i\n",
    "$$\n",
    "\n",
    "we have\n",
    "\n",
    "$$\n",
    "    A_N(\\mu) \\cdot \\underline{u}_N(\\mu) = \\underline{\\ell}_N\n",
    "$$"
   ]
  },
  {
   "cell_type": "markdown",
   "id": "c729f6ca",
   "metadata": {
    "editable": true,
    "slideshow": {
     "slide_type": "subslide"
    }
   },
   "source": [
    "So, let's solve the linear system and compare the reduced solution to the FOM solution:"
   ]
  },
  {
   "cell_type": "code",
   "execution_count": null,
   "id": "231caa63",
   "metadata": {
    "editable": true,
    "slideshow": {
     "slide_type": ""
    }
   },
   "outputs": [],
   "source": [
    "import numpy as np\n",
    "u_N = np.linalg.solve(A_N, l_N)\n",
    "U_N = basis.lincomb(u_N.ravel())\n",
    "U = fom.solve(mu)\n",
    "fom.visualize((U, U_N, U-U_N),\n",
    "              legend=('FOM', 'ROM', 'Error'),\n",
    "              separate_colorbars=True)"
   ]
  },
  {
   "cell_type": "markdown",
   "id": "5538e47c",
   "metadata": {
    "editable": true,
    "slideshow": {
     "slide_type": "subslide"
    }
   },
   "source": [
    "### Automatic structure-preserving operator projection\n",
    "\n",
    "For each new parameter $\\mu$ we want to solve the ROM for, we have to assemble a new $A_N(\\mu)$, which requires $\\mathcal{O}(N^2)$ high-dimensional operations. This can significantly diminish the efficiency of our ROM. However, we can avoid this issue by exploiting the parameter separability of $A(\\mu)$,\n",
    "\n",
    "$$\n",
    "    A(\\mu) = \\sum_{q=1}^Q \\theta_q(\\mu) \\cdot A_q,\n",
    "$$\n",
    "\n",
    "which is inherited by $A_N(\\mu)$:\n",
    "\n",
    "$$\n",
    "    A_N(\\mu) = \\sum_{q=1}^Q \\theta_q(\\mu) \\cdot A_{N,q},\n",
    "$$\n",
    "where $(A_{N,q})_{i,j} = \\underline{\\psi}_i^{\\operatorname{T}} \\cdot A_q \\cdot \\underline{\\psi}_j$.\n",
    "\n",
    "Thus, we have to project all operators in `fom.operator.operators` individually and then later form a linear combination of these matrices."
   ]
  },
  {
   "cell_type": "markdown",
   "id": "f3375671",
   "metadata": {
    "editable": true,
    "slideshow": {
     "slide_type": "subslide"
    }
   },
   "source": [
    "This is getting tedious, so we let pyMOR do the work for us:"
   ]
  },
  {
   "cell_type": "code",
   "execution_count": null,
   "id": "ed1d0d80",
   "metadata": {
    "editable": true,
    "slideshow": {
     "slide_type": ""
    }
   },
   "outputs": [],
   "source": [
    "op_N = project(fom.operator, basis, basis)\n",
    "op_N"
   ]
  },
  {
   "cell_type": "markdown",
   "id": "036ea76b",
   "metadata": {
    "editable": true,
    "slideshow": {
     "slide_type": "fragment"
    }
   },
   "source": [
    "Similarly, we can project the right-hand side:"
   ]
  },
  {
   "cell_type": "code",
   "execution_count": null,
   "id": "222708c6",
   "metadata": {
    "editable": true,
    "slideshow": {
     "slide_type": ""
    }
   },
   "outputs": [],
   "source": [
    "rhs_N = project(fom.rhs, basis, None)\n",
    "rhs_N"
   ]
  },
  {
   "cell_type": "markdown",
   "id": "93783bbf",
   "metadata": {
    "editable": true,
    "slideshow": {
     "slide_type": "subslide"
    }
   },
   "source": [
    "Now, we could assemble a matrix operator from `op_N` for a specific `mu` using the `assemble` method:"
   ]
  },
  {
   "cell_type": "code",
   "execution_count": null,
   "id": "df9829e9",
   "metadata": {
    "editable": true,
    "slideshow": {
     "slide_type": ""
    }
   },
   "outputs": [],
   "source": [
    "op_N_mu = op_N.assemble(mu)\n",
    "op_N_mu"
   ]
  },
  {
   "cell_type": "markdown",
   "id": "7d24751b",
   "metadata": {
    "editable": true,
    "slideshow": {
     "slide_type": ""
    }
   },
   "source": [
    "Then, we can extract it's system matrix:"
   ]
  },
  {
   "cell_type": "code",
   "execution_count": null,
   "id": "55e0675c",
   "metadata": {
    "editable": true,
    "slideshow": {
     "slide_type": ""
    }
   },
   "outputs": [],
   "source": [
    "op_N_mu.matrix.shape"
   ]
  },
  {
   "cell_type": "markdown",
   "id": "f05d3b32",
   "metadata": {
    "editable": true,
    "slideshow": {
     "slide_type": ""
    }
   },
   "source": [
    "From that, we can proceed as before. However, it is more convenient, to use the operator's `apply_inverse` method to invoke an (`Operator`-dependent) linear solver with a given input `VectorArray` as right-hand side:"
   ]
  },
  {
   "cell_type": "code",
   "execution_count": null,
   "id": "876fbe6a",
   "metadata": {
    "editable": true,
    "slideshow": {
     "slide_type": ""
    }
   },
   "outputs": [],
   "source": [
    "u_N_new = op_N.apply_inverse(rhs_N.as_vector(), mu=mu)\n",
    "u_N_new"
   ]
  },
  {
   "cell_type": "markdown",
   "id": "99b24455",
   "metadata": {
    "editable": true,
    "slideshow": {
     "slide_type": "subslide"
    }
   },
   "source": [
    "Note that the result is a `VectorArray`. For `NumpyVectorArray` and some other `VectorArray` types, we can extract the internal data using the `to_numpy` method. We use it to check whether we arrived at the same solution:"
   ]
  },
  {
   "cell_type": "code",
   "execution_count": null,
   "id": "1ce52751",
   "metadata": {
    "editable": true,
    "slideshow": {
     "slide_type": ""
    }
   },
   "outputs": [],
   "source": [
    "np.linalg.norm(u_N.ravel() - u_N_new.to_numpy().ravel())"
   ]
  },
  {
   "cell_type": "markdown",
   "id": "6847a1ea",
   "metadata": {
    "editable": true,
    "slideshow": {
     "slide_type": "subslide"
    }
   },
   "source": [
    "### Projecting the entire Model\n",
    "\n",
    "In pyMOR, ROMs are built using a `Reductor` which appropriately projects all of the `Models` operators and returns a reduced `Model` comprised of the projected `Operators`. Let's pick the most basic `Reductor`\n",
    "available for a `StationaryModel`:"
   ]
  },
  {
   "cell_type": "code",
   "execution_count": null,
   "id": "31ce2f91",
   "metadata": {
    "editable": true,
    "slideshow": {
     "slide_type": ""
    }
   },
   "outputs": [],
   "source": [
    "reductor = StationaryRBReductor(fom, basis)"
   ]
  },
  {
   "cell_type": "markdown",
   "id": "be62cbf9",
   "metadata": {
    "editable": true,
    "slideshow": {
     "slide_type": ""
    }
   },
   "source": [
    "Every reductor has a `reduce` method, which builds the ROM:"
   ]
  },
  {
   "cell_type": "code",
   "execution_count": null,
   "id": "fa6d5d1a",
   "metadata": {
    "editable": true,
    "slideshow": {
     "slide_type": ""
    }
   },
   "outputs": [],
   "source": [
    "rom = reductor.reduce()"
   ]
  },
  {
   "cell_type": "markdown",
   "id": "b2b6d5d9",
   "metadata": {
    "editable": true,
    "slideshow": {
     "slide_type": "subslide"
    }
   },
   "source": [
    "Let's compare the structure of the FOM and of the ROM"
   ]
  },
  {
   "cell_type": "code",
   "execution_count": null,
   "id": "08e79234",
   "metadata": {
    "editable": true,
    "slideshow": {
     "slide_type": ""
    }
   },
   "outputs": [],
   "source": [
    "fom"
   ]
  },
  {
   "cell_type": "code",
   "execution_count": null,
   "id": "4859be73",
   "metadata": {
    "editable": true,
    "slideshow": {
     "slide_type": "subslide"
    }
   },
   "outputs": [],
   "source": [
    "rom"
   ]
  },
  {
   "cell_type": "markdown",
   "id": "c5066afb",
   "metadata": {
    "editable": true,
    "slideshow": {
     "slide_type": "subslide"
    }
   },
   "source": [
    "### Solving the ROM\n",
    "\n",
    "To solve the ROM, we just use `solve` again,"
   ]
  },
  {
   "cell_type": "code",
   "execution_count": null,
   "id": "d10c146c",
   "metadata": {
    "editable": true,
    "slideshow": {
     "slide_type": ""
    }
   },
   "outputs": [],
   "source": [
    "u_rom = rom.solve(mu)"
   ]
  },
  {
   "cell_type": "markdown",
   "id": "3bc3bf94",
   "metadata": {
    "editable": true,
    "slideshow": {
     "slide_type": "fragment"
    }
   },
   "source": [
    "to get the reduced coefficients:"
   ]
  },
  {
   "cell_type": "code",
   "execution_count": null,
   "id": "b847e37f",
   "metadata": {
    "editable": true,
    "slideshow": {
     "slide_type": ""
    }
   },
   "outputs": [],
   "source": [
    "u_rom"
   ]
  },
  {
   "cell_type": "markdown",
   "id": "25425deb",
   "metadata": {
    "editable": true,
    "slideshow": {
     "slide_type": ""
    }
   },
   "source": [
    "It is the same coefficient vector we have computed before:"
   ]
  },
  {
   "cell_type": "code",
   "execution_count": null,
   "id": "80292ab9",
   "metadata": {
    "editable": true,
    "slideshow": {
     "slide_type": ""
    }
   },
   "outputs": [],
   "source": [
    "(u_rom - u_N_new).norm()"
   ]
  },
  {
   "cell_type": "markdown",
   "id": "591d7abd",
   "metadata": {
    "editable": true,
    "slideshow": {
     "slide_type": "fragment"
    }
   },
   "source": [
    "A high-dimensional representation is obtained from the `reductor`:"
   ]
  },
  {
   "cell_type": "code",
   "execution_count": null,
   "id": "2fc7d2ea",
   "metadata": {
    "editable": true,
    "slideshow": {
     "slide_type": ""
    }
   },
   "outputs": [],
   "source": [
    "U_rom = reductor.reconstruct(u_rom)"
   ]
  },
  {
   "cell_type": "markdown",
   "id": "0befc927",
   "metadata": {
    "editable": true,
    "slideshow": {
     "slide_type": "subslide"
    }
   },
   "source": [
    "### Computing the MOR error\n",
    "\n",
    "Let's compute the error again:"
   ]
  },
  {
   "cell_type": "code",
   "execution_count": null,
   "id": "6698f12d",
   "metadata": {
    "editable": true,
    "slideshow": {
     "slide_type": ""
    }
   },
   "outputs": [],
   "source": [
    "U = fom.solve(mu)\n",
    "ERR = U - U_rom\n",
    "ERR.norm() / U.norm()"
   ]
  },
  {
   "cell_type": "markdown",
   "id": "84d2de83",
   "metadata": {
    "editable": true,
    "slideshow": {
     "slide_type": "fragment"
    }
   },
   "source": [
    "and look at it:"
   ]
  },
  {
   "cell_type": "code",
   "execution_count": null,
   "id": "0a19a458",
   "metadata": {
    "editable": true,
    "slideshow": {
     "slide_type": ""
    }
   },
   "outputs": [],
   "source": [
    "fom.visualize(ERR)"
   ]
  },
  {
   "cell_type": "markdown",
   "id": "c5e82f63",
   "metadata": {
    "editable": true,
    "slideshow": {
     "slide_type": "subslide"
    }
   },
   "source": [
    "### Your turn\n",
    "\n",
    "- Verify that the MOR error vanishes for the snapshot parameters $\\mu_i$ used to build $V_N$ (this is also called *snapshot reproduction*)."
   ]
  },
  {
   "cell_type": "code",
   "execution_count": null,
   "id": "4cd3fac0",
   "metadata": {
    "editable": true,
    "slideshow": {
     "slide_type": ""
    }
   },
   "outputs": [],
   "source": [
    "# your code here"
   ]
  },
  {
   "cell_type": "markdown",
   "id": "51d4160e",
   "metadata": {
    "editable": true,
    "slideshow": {
     "slide_type": "slide"
    }
   },
   "source": [
    "## Certified Reduced Basis Method"
   ]
  },
  {
   "cell_type": "markdown",
   "id": "51f7a38d",
   "metadata": {
    "editable": true,
    "slideshow": {
     "slide_type": "subslide"
    }
   },
   "source": [
    "### Error estimator\n",
    "Model order reduction introduces an additional approximation error which we need to control in order to be able to use a ROM as a reliable surrogate for a given FOM. While Céa's lemma provides a rigorous a priori bound, this error bound is not computable in general. Instead, we use a residual-based a posteriori error estimator. As in a posteriori theory for finite-element methods, we have:\n",
    "\n",
    "$$\n",
    "    \\|\\nabla u_h(\\mu) - \\nabla u_N(\\mu)\\|_{L^2(\\Omega)}\n",
    "    \\leq \\frac{1}{\\mu_{min}} \\sup_{v_h\\in V_h} \\frac{\\ell(v_h) - a(u_N(\\mu), v_h; \\mu)}{\\|\\nabla v_h\\|_{L^2(\\Omega)}}.\n",
    "$$\n",
    "\n",
    "For this estimate to hold, it is crucial that we use the right norms. I.e., instead of the Euclidean norm of the coefficient vectors, which we have used so far, we need to use the $H^1$-seminorm. \n",
    "\n",
    "The inner product matrix of the $H^1$-seminorm is automatically assembled by pyMOR's builtin discretizer and available as `fom.h1_0_semi_product`. We can pass it as the `product`-argument to methods like `norm`, `inner` or `gram_schmidt` to perform these operations w.r.t. the correct inner product/norm. Further, we need a lower bound for the coercivity constant of $a(\\cdot, \\cdot; \\mu)$."
   ]
  },
  {
   "cell_type": "markdown",
   "id": "bdba6745",
   "metadata": {
    "editable": true,
    "slideshow": {
     "slide_type": "subslide"
    }
   },
   "source": [
    "Using this information, we can replace `StationaryRBReductor` by `CoerciveRBReductor`, which will add a reduction-error estimator to our ROM:"
   ]
  },
  {
   "cell_type": "code",
   "execution_count": null,
   "id": "5730301f",
   "metadata": {
    "editable": true,
    "slideshow": {
     "slide_type": ""
    }
   },
   "outputs": [],
   "source": [
    "basis = gram_schmidt(snapshots, product=fom.h1_0_semi_product)\n",
    "reductor = CoerciveRBReductor(\n",
    "   fom, basis,\n",
    "   product=fom.h1_0_semi_product,\n",
    "   coercivity_estimator=ExpressionParameterFunctional('min(diffusion)', fom.parameters)\n",
    ")\n",
    "rom = reductor.reduce()"
   ]
  },
  {
   "cell_type": "markdown",
   "id": "93cd0c5f",
   "metadata": {
    "editable": true,
    "slideshow": {
     "slide_type": "subslide"
    }
   },
   "source": [
    "We won't go into details here, but an 'offline-online decomposition' of the error estimator is possible similar to what we did for the projection of the system operator:"
   ]
  },
  {
   "cell_type": "code",
   "execution_count": null,
   "id": "077ad7ca",
   "metadata": {
    "editable": true,
    "slideshow": {
     "slide_type": ""
    }
   },
   "outputs": [],
   "source": [
    "rom.error_estimator.residual"
   ]
  },
  {
   "cell_type": "markdown",
   "id": "1c523e77",
   "metadata": {
    "editable": true,
    "slideshow": {
     "slide_type": "subslide"
    }
   },
   "source": [
    "Let's check if the estimator works:"
   ]
  },
  {
   "cell_type": "code",
   "execution_count": null,
   "id": "8338512d",
   "metadata": {
    "editable": true,
    "slideshow": {
     "slide_type": ""
    }
   },
   "outputs": [],
   "source": [
    "U = fom.solve(mu)\n",
    "u_N = rom.solve(mu)\n",
    "est = rom.estimate_error(mu).item()\n",
    "err = (U - reductor.reconstruct(u_N)).norm(product=fom.h1_0_semi_product).item()\n",
    "print(f'error: {err}, estimate: {est}')"
   ]
  },
  {
   "cell_type": "markdown",
   "id": "638df0de",
   "metadata": {
    "editable": true,
    "slideshow": {
     "slide_type": "subslide"
    }
   },
   "source": [
    "### Greedy basis generation"
   ]
  },
  {
   "cell_type": "markdown",
   "id": "989b2ffe",
   "metadata": {
    "editable": true,
    "slideshow": {
     "slide_type": "fragment"
    }
   },
   "source": [
    "So far, we have built the reduced space $V_N$ by just randomly picking snapshot parameters. A theoretically well-founded approach which leads to quasi-optimal approximation spaces it the so-called weak greedy algorithm. In the weak greedy algorithm, $V_N$ is constructed iteratively by enlarging $V_N$ by an element $u_h(\\mu_{N+1})$ such that\n",
    "\n",
    "$$ \\inf_{v_N \\in V_N} \\|\\nabla u_h(\\mu_{N+1}) - \\nabla v_N\\|_{L^2(\\Omega)}\n",
    "\\geq C \\cdot \\sup_{\\mu \\in \\mathcal{P}}\\inf_{v_N \\in V_N} \\|\\nabla u_h(\\mu) - \\nabla v_N\\|_{L^2(\\Omega)}, $$\n",
    "\n",
    "for some fixed constant $0 < C \\leq 1$."
   ]
  },
  {
   "cell_type": "markdown",
   "id": "229bd34d",
   "metadata": {
    "editable": true,
    "slideshow": {
     "slide_type": "fragment"
    }
   },
   "source": [
    "In RB methods, we find such a $\\mu_{N+1}$ by picking the parameter for which the estimated reduction error is maximized. \n",
    "\n",
    "In order to make this maximization procedure computationally feasible, the infinite set $\\mathcal{P}$ is replaced by a finite subset of training parameters:"
   ]
  },
  {
   "cell_type": "code",
   "execution_count": null,
   "id": "913bbc90",
   "metadata": {
    "editable": true,
    "slideshow": {
     "slide_type": ""
    }
   },
   "outputs": [],
   "source": [
    "training_set = p.parameter_space.sample_uniformly(4)\n",
    "len(training_set)"
   ]
  },
  {
   "cell_type": "markdown",
   "id": "599ad4a2",
   "metadata": {
    "editable": true,
    "slideshow": {
     "slide_type": "subslide"
    }
   },
   "source": [
    "Given this training set, we can use `rb_greedy` to compute $V_N$. In order to start with an empty basis, we create a new reductor that, by default, is initialized with an empty basis:"
   ]
  },
  {
   "cell_type": "code",
   "execution_count": null,
   "id": "4e9a8358",
   "metadata": {
    "editable": true,
    "slideshow": {
     "slide_type": ""
    }
   },
   "outputs": [],
   "source": [
    "reductor = CoerciveRBReductor(\n",
    "   fom,\n",
    "   product=fom.h1_0_semi_product,\n",
    "   coercivity_estimator=ExpressionParameterFunctional('min(diffusion)', fom.parameters)\n",
    ")\n",
    "greedy_data = rb_greedy(fom, reductor, training_set, max_extensions=20)\n",
    "print(greedy_data.keys())\n",
    "rom = greedy_data['rom']"
   ]
  },
  {
   "cell_type": "markdown",
   "id": "af238435",
   "metadata": {
    "editable": true,
    "slideshow": {
     "slide_type": "subslide"
    }
   },
   "source": [
    "### Testing the ROM\n",
    "\n",
    "Let's compute the error again:"
   ]
  },
  {
   "cell_type": "code",
   "execution_count": null,
   "id": "679540b1",
   "metadata": {
    "editable": true,
    "slideshow": {
     "slide_type": ""
    }
   },
   "outputs": [],
   "source": [
    "mu = p.parameter_space.sample_randomly()\n",
    "U = fom.solve(mu)\n",
    "u_rom = rom.solve(mu)\n",
    "ERR = U - reductor.reconstruct(u_rom)\n",
    "ERR.norm(fom.h1_0_semi_product)"
   ]
  },
  {
   "cell_type": "markdown",
   "id": "e7281885",
   "metadata": {
    "editable": true,
    "slideshow": {
     "slide_type": "fragment"
    }
   },
   "source": [
    "and compare it with the estimated error:"
   ]
  },
  {
   "cell_type": "code",
   "execution_count": null,
   "id": "3119f425",
   "metadata": {
    "editable": true,
    "slideshow": {
     "slide_type": ""
    }
   },
   "outputs": [],
   "source": [
    "rom.estimate_error(mu)"
   ]
  },
  {
   "cell_type": "markdown",
   "id": "5e092c5c",
   "metadata": {
    "editable": true,
    "slideshow": {
     "slide_type": "subslide"
    }
   },
   "source": [
    "### Is it actually faster?\n",
    "\n",
    "Finally, we check if our ROM is really any faster than the FOM:"
   ]
  },
  {
   "cell_type": "code",
   "execution_count": null,
   "id": "6802500d",
   "metadata": {
    "editable": true,
    "slideshow": {
     "slide_type": ""
    }
   },
   "outputs": [],
   "source": [
    "from time import perf_counter\n",
    "mus = p.parameter_space.sample_randomly(10)\n",
    "tic = perf_counter()\n",
    "for mu in mus:\n",
    "    fom.solve(mu)\n",
    "t_fom = perf_counter() - tic\n",
    "tic = perf_counter()\n",
    "for mu in mus:\n",
    "    rom.solve(mu)\n",
    "t_rom = perf_counter() - tic\n",
    "print(f'Speedup: {t_fom/t_rom}')"
   ]
  },
  {
   "cell_type": "markdown",
   "id": "8dfdbb61",
   "metadata": {
    "editable": true,
    "slideshow": {
     "slide_type": "subslide"
    }
   },
   "source": [
    "### Some more exercises\n",
    "\n",
    "- Plot the MOR error vs. the dimension of the reduced space. (Use `reductor.reduce(N)` to project onto a sub-basis of dimension `N`.)\n",
    " \n",
    "- Plot the speedup vs. the dimension of the reduced space.\n",
    "\n",
    "- Compute the maximum/minimum efficiency of the error estimator over the parameter space.\n",
    "\n",
    "- Try different numbers of subdomains."
   ]
  },
  {
   "cell_type": "code",
   "execution_count": null,
   "id": "63d8632b",
   "metadata": {},
   "outputs": [],
   "source": [
    "# your code here"
   ]
  }
 ],
 "metadata": {
  "jupytext": {
   "formats": "ipynb,md:myst"
  },
  "kernelspec": {
   "display_name": "school_venv",
   "language": "python",
   "name": "school_venv"
  }
 },
 "nbformat": 4,
 "nbformat_minor": 5
}
