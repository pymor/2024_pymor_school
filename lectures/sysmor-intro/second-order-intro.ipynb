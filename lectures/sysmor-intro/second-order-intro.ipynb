{
 "cells": [
  {
   "cell_type": "markdown",
   "id": "e533d6af",
   "metadata": {
    "slideshow": {
     "slide_type": "slide"
    }
   },
   "source": [
    "# Second-order Systems\n",
    "\n",
    "$$\n",
    "\\newcommand{\\bbC}{\\mathbb{C}}\n",
    "\\newcommand{\\Cnn}{\\bbC^{n \\times n}}\n",
    "\\newcommand{\\Cpm}{\\bbC^{p \\times m}}\n",
    "\\newcommand{\\bbR}{\\mathbb{R}}\n",
    "\\newcommand{\\Rn}{\\bbR^{n}}\n",
    "\\newcommand{\\Rr}{\\bbR^{r}}\n",
    "\\newcommand{\\Rm}{\\bbR^{m}}\n",
    "\\newcommand{\\Rp}{\\bbR^{p}}\n",
    "\\newcommand{\\Rk}{\\bbR^{k}}\n",
    "\\newcommand{\\Rnn}{\\bbR^{n \\times n}}\n",
    "\\newcommand{\\Rnm}{\\bbR^{n \\times m}}\n",
    "\\newcommand{\\Rpn}{\\bbR^{p \\times n}}\n",
    "\\newcommand{\\Rpm}{\\bbR^{p \\times m}}\n",
    "\\newcommand{\\Rnr}{\\bbR^{n \\times r}}\n",
    "\\newcommand{\\Rrr}{\\bbR^{r \\times r}}\n",
    "\\newcommand{\\Rrm}{\\bbR^{r \\times m}}\n",
    "\\newcommand{\\Rpr}{\\bbR^{p \\times r}}\n",
    "\\newcommand{\\cH}{\\mathcal{H}}\n",
    "\\newcommand{\\cK}{\\mathcal{K}}\n",
    "\\newcommand{\\cL}{\\mathcal{L}}\n",
    "\\newcommand{\\cT}{\\mathcal{T}}\n",
    "\\newcommand{\\hA}{\\hat{A}}\n",
    "\\newcommand{\\hB}{\\hat{B}}\n",
    "\\newcommand{\\hC}{\\hat{C}}\n",
    "\\newcommand{\\hE}{\\hat{E}}\n",
    "\\newcommand{\\hH}{\\hat{H}}\n",
    "\\newcommand{\\hY}{\\hat{Y}}\n",
    "\\newcommand{\\hx}{\\hat{x}}\n",
    "\\newcommand{\\hy}{\\hat{y}}\n",
    "\\newcommand{\\tA}{\\tilde{A}}\n",
    "\\newcommand{\\tB}{\\tilde{B}}\n",
    "\\newcommand{\\tC}{\\tilde{C}}\n",
    "\\newcommand{\\tE}{\\tilde{E}}\n",
    "\\newcommand{\\tran}{\\operatorname{T}}\n",
    "\\newcommand{\\herm}{\\operatorname{H}}\n",
    "\\newcommand{\\Real}{\\operatorname{Re}}\n",
    "\\newcommand{\\imag}{\\boldsymbol{\\imath}}\n",
    "\\newcommand{\\tr}{\\operatorname{tr}}\n",
    "\\newcommand{\\myspan}{\\operatorname{span}}\n",
    "\\newcommand{\\dif}[1]{\\operatorname{d}\\!{#1}}\n",
    "$$"
   ]
  },
  {
   "cell_type": "markdown",
   "id": "ab8c03dc",
   "metadata": {
    "slideshow": {
     "slide_type": "subslide"
    }
   },
   "source": [
    "### Second-order State-space Systems (pyMOR: `SecondOrderModel`)\n",
    "\n",
    "$$\n",
    "\\begin{align*}\n",
    "  M \\ddot{x}(t) + E \\dot{x}(t) + K x(t)  &= B u(t), \\\\\n",
    "  y(t) & = C_{\\text{p}} x(t) + C_{\\text{v}} \\dot{x}(t).\n",
    "\\end{align*}\n",
    "$$\n",
    "\n",
    "Here\n",
    "\n",
    "- $x(t) \\in \\Rn$ is called the *position*,\n",
    "- $\\dot{x}(t) \\in \\Rn$ is called the *velocity*,\n",
    "- $u(t) \\in \\Rm$ is called the *input*,\n",
    "- $y(t) \\in \\Rp$ is called the *output*\n",
    "\n",
    "of the second-order LTI system.\n",
    "Correspondingly, we have\n",
    "\n",
    "$$\n",
    "\\begin{align*}\n",
    "  M, E, K \\in \\Rnn, \\qquad\n",
    "  B \\in \\Rnm, \\qquad\n",
    "  C_{\\text{p}}, C_{\\text{v}} \\in \\Rpn.\n",
    "\\end{align*}\n",
    "$$"
   ]
  },
  {
   "cell_type": "markdown",
   "id": "34ec2b76",
   "metadata": {
    "slideshow": {
     "slide_type": "subslide"
    }
   },
   "source": [
    "## Examples"
   ]
  },
  {
   "cell_type": "markdown",
   "id": "73b01548",
   "metadata": {
    "slideshow": {
     "slide_type": "subslide"
    }
   },
   "source": [
    "### An Artificial Fishtail ([MORWiki Artificial Fishtail](https://morwiki.mpi-magdeburg.mpg.de/morwiki/index.php/Artificial_Fishtail))\n",
    "\n",
    "<table>\n",
    "<tr>\n",
    "<td>\n",
    "\n",
    "**Construction:**\n",
    "\n",
    "<center>\n",
    "<img src=\"figures/fishtail_trans.jpeg\" alt=\"fishtail\" width=\"50%\">\n",
    "</center>\n",
    "\n",
    "</td>\n",
    "<td>\n",
    "\n",
    "**Fluid Elastomer Actuation:**\n",
    "\n",
    "**no pressure**\n",
    "\n",
    "<center>\n",
    "<img src=\"figures/fishtail_unbend.jpeg\" alt=\"fishtail unbend\" width=\"50%\">\n",
    "</center>\n",
    "\n",
    "**under pressure**\n",
    "\n",
    "<center>\n",
    "<img src=\"figures/fishtail_bend.jpeg\" alt=\"fishtail bend\" width=\"50%\">\n",
    "</center>\n",
    "\n",
    "</td>\n",
    "</tr>\n",
    "</table>"
   ]
  },
  {
   "cell_type": "markdown",
   "id": "8401b505",
   "metadata": {
    "slideshow": {
     "slide_type": "subslide"
    }
   },
   "source": [
    "**Variables:**\n",
    "displacement $\\vec{s}(t, \\vec{z})$,\n",
    "strain $\\underline{\\vec{\\varepsilon}}(\\vec{s}(t, \\vec{z}))$,\n",
    "stress $\\underline{\\vec{\\sigma}}(\\vec{s}(t, \\vec{z}))$.\n",
    "\n",
    "**Material parameters:**\n",
    "density $\\rho$,\n",
    "Lamé parameters $\\lambda$, $\\mu$.\n",
    "\n",
    "**Basic principle:**\n",
    "\n",
    "$$\n",
    "\\begin{align*}\n",
    "  \\underline{\\vec{\\varepsilon}}(\\vec{s}(t, \\vec{z}))\n",
    "  & =\n",
    "    \\frac{1}{2}\n",
    "    \\left(\n",
    "      \\nabla \\vec{s}(t, \\vec{z})\n",
    "      + \\nabla^{\\tran} \\vec{s}(t, \\vec{z})\n",
    "    \\right)\n",
    "  & \\text{(kinematic equation)} \\\\\n",
    "  \\underline{\\vec{\\sigma}}(\\vec{s}(t, \\vec{z}))\n",
    "  & =\n",
    "    \\lambda\n",
    "    \\tr\\!\\left(\n",
    "      \\left(\n",
    "        \\underline{\\vec{\\varepsilon}}(\\vec{s}(t, \\vec{z}))\n",
    "      \\right)\n",
    "      \\underline{I}\n",
    "      + 2 \\mu \\underline{\\vec{\\varepsilon}}(\\vec{s}(t, \\vec{z}))\n",
    "    \\right)\n",
    "  & \\text{(material equation)} \\\\\n",
    "  \\rho \\frac{\\partial^{2} \\vec{s}(t, \\vec{z})}{\\partial t^{2}}\n",
    "  & =\n",
    "    \\nabla \\cdot \\underline{\\vec{\\sigma}}(\\vec{s}(t, \\vec{z}))\n",
    "    + \\vec{f}(t, \\vec{z})\n",
    "  & \\text{(equation of motion)}\n",
    "\\end{align*}\n",
    "$$\n",
    "\n",
    "**+** initial and boundary conditions"
   ]
  },
  {
   "cell_type": "markdown",
   "id": "a4eacf82",
   "metadata": {
    "slideshow": {
     "slide_type": "subslide"
    }
   },
   "source": [
    "FEM semi-discretization:\n",
    "\n",
    "$$\n",
    "\\begin{align*}\n",
    "  M \\ddot{x}(t) + E \\dot{x}(t) + K x(t) & = B u(t), \\\\\n",
    "  y(t) & = C_{\\text{p}} x(t),\n",
    "\\end{align*}\n",
    "$$\n",
    "\n",
    "with\n",
    "\n",
    "- $M, E, K > 0$, $C_{\\text{v}} = 0$,\n",
    "- $n = 779\\,232$, $m = 1$, $p = 3$.\n",
    "\n",
    "<center>\n",
    "<img src=\"figures/fishtail_tf1.svg\" alt=\"fishtail tf\" width=\"20%\">\n",
    "</center>\n",
    "\n",
    "<center>\n",
    "<img src=\"figures/fishtail_sim1.svg\" alt=\"fishtail sim\" width=\"60%\">\n",
    "</center>"
   ]
  },
  {
   "cell_type": "markdown",
   "id": "cea0e76b",
   "metadata": {
    "slideshow": {
     "slide_type": "subslide"
    }
   },
   "source": [
    "## Transfer Function\n",
    "\n",
    "Analogous to first-order systems, for second-order systems we get\n",
    "\n",
    "$$\n",
    "H(s) =\n",
    "\\left(s C_{\\text{v}} + C_{\\text{p}} \\right)\n",
    "{\\left(s^2 M + s E + K\\right)}^{-1}\n",
    "B.\n",
    "$$"
   ]
  },
  {
   "cell_type": "markdown",
   "id": "78327212",
   "metadata": {
    "slideshow": {
     "slide_type": "fragment"
    }
   },
   "source": [
    "$$\n",
    "H \\text{ is analytic in } \\bbC \\setminus \\Lambda(M, E, K).\n",
    "$$"
   ]
  },
  {
   "cell_type": "markdown",
   "id": "61ee440f",
   "metadata": {
    "slideshow": {
     "slide_type": "subslide"
    }
   },
   "source": [
    "### Sigma Magnitude Plot for the Artificial Fishtail\n",
    "\n",
    "<center>\n",
    "<img src=\"figures/fishtail_tf1_large.svg\" alt=\"fishtail tf1 large\" width=\"60%\">\n",
    "</center>"
   ]
  }
 ],
 "metadata": {
  "kernelspec": {
   "display_name": "Python 3 (ipykernel)",
   "language": "python",
   "name": "python3"
  }
 },
 "nbformat": 4,
 "nbformat_minor": 5
}
