{
 "cells": [
  {
   "cell_type": "markdown",
   "id": "11045027",
   "metadata": {
    "slideshow": {
     "slide_type": "slide"
    }
   },
   "source": [
    "# System-theoretic Methods\n",
    "\n",
    "<h2>\n",
    "August 27, 2024<br/>\n",
    "pyMOR School and User Meeting 2024\n",
    "</h2>"
   ]
  },
  {
   "cell_type": "markdown",
   "id": "0c1499cf",
   "metadata": {
    "slideshow": {
     "slide_type": "subslide"
    }
   },
   "source": [
    "# What this actually is all about:\n",
    "\n",
    "<center>\n",
    "<img src=\"./figures/system_fom.svg\" alt=\"system\" width=\"60%\"/>\n",
    "</center>"
   ]
  },
  {
   "cell_type": "markdown",
   "id": "954ac316",
   "metadata": {
    "slideshow": {
     "slide_type": "subslide"
    }
   },
   "source": [
    "<center>\n",
    "<img src=\"./figures/mor_system_fo_v2.svg\" alt=\"mor\" width=\"40%\">\n",
    "</center>"
   ]
  },
  {
   "cell_type": "markdown",
   "id": "1e75c5ea",
   "metadata": {
    "slideshow": {
     "slide_type": "subslide"
    }
   },
   "source": [
    "# Outline\n",
    "\n",
    "<h2>\n",
    "1. Linear Time-Invariant (LTI) Systems<br/>\n",
    "2. Transfer Function and Realizations<br/>\n",
    "3. Projection-based Model order Reduction<br />\n",
    "4. System Analysis<br/>\n",
    "5. A Selection of MOR Methods<br/>\n",
    "</h2>"
   ]
  },
  {
   "cell_type": "markdown",
   "id": "f1a44fbc",
   "metadata": {
    "slideshow": {
     "slide_type": "subslide"
    }
   },
   "source": [
    "# Restrictions for this lecture\n",
    "\n",
    "- Only continuous-time systems\n",
    "  - Discrete-time is treated in\n",
    "    [[Antoulas '05]](https://doi.org/10.1137/1.9780898718713)\n",
    "- Only unstructured systems\n",
    "- No differential-algebraic systems\n",
    "  - For DAE aspects see\n",
    "    [[Voigt '19]](https://www.math.uni-hamburg.de/home/voigt/Modellreduktion_SoSe19/Notes_ModelReduction.pdf),\n",
    "    [[Gugercin/Stykel/Wyatt '13]](https://doi.org/10.1137/130906635),\n",
    "    [[Mehrmann/Stykel '05]](https://doi.org/10.1007/3-540-27909-1_3),\n",
    "    [[Stykel '04]](https://doi.org/10.1007/s00498-004-0141-4)\n",
    "- No non-linearities\n",
    "- No parameter dependencies"
   ]
  },
  {
   "cell_type": "markdown",
   "id": "d00a155b",
   "metadata": {
    "slideshow": {
     "slide_type": "slide"
    }
   },
   "source": [
    "# Linear Time-Invariant (LTI) Systems\n",
    "\n",
    "## Setting for this course\n",
    "\n",
    "### First-order State-space Systems (pyMOR: [`LTIModel`](https://docs.pymor.org/2023-1-0/autoapi/pymor/models/iosys/index.html#pymor.models.iosys.LTIModel))\n",
    "\n",
    "$$\n",
    "\\begin{equation}\\tag{$\\Sigma$}\n",
    "  \\begin{aligned}\n",
    "    E \\dot{x}(t) & = A x(t) + B u(t), \\\\\n",
    "    y(t) & = C x(t) + D u(t).\n",
    "  \\end{aligned}\n",
    "\\end{equation}\n",
    "$$\n",
    "\n",
    "Here\n",
    "\n",
    "- $x(t) \\in \\mathbb{R}^{n}$ is called the *state*,\n",
    "- $u(t) \\in \\mathbb{R}^{m}$ is called the *input*,\n",
    "- $y(t) \\in \\mathbb{R}^{p}$ is called the *output*\n",
    "\n",
    "of the LTI system.\n",
    "Correspondingly, we have\n",
    "\n",
    "$$\n",
    "\\begin{align*}\n",
    "  E, A \\in \\mathbb{R}^{n \\times n}, \\qquad\n",
    "  B \\in \\mathbb{R}^{n \\times m}, \\qquad\n",
    "  C \\in \\mathbb{R}^{p \\times n}, \\quad\\text{and}\\quad\n",
    "  D \\in \\mathbb{R}^{p \\times m}.\n",
    "\\end{align*}\n",
    "$$\n",
    "\n",
    "We assume\n",
    "$t \\in [0, \\infty)$,\n",
    "$x(0) = 0$,\n",
    "$E$ is invertible,\n",
    "$E^{-1} A$ is Hurwitz, and\n",
    "$D = 0$."
   ]
  },
  {
   "cell_type": "markdown",
   "id": "fc8171d6",
   "metadata": {
    "slideshow": {
     "slide_type": "subslide"
    }
   },
   "source": [
    "## Examples\n",
    "\n",
    "### Heat Equation ([MORWiki thermal block](https://morwiki.mpi-magdeburg.mpg.de/morwiki/index.php/Thermal_Block))\n",
    "\n",
    "<table>\n",
    "<tr>\n",
    "<td>\n",
    "\n",
    "For $t \\in (0, T)$, $\\xi \\in \\Omega$ and initial values\n",
    "\n",
    "$$\n",
    "\\theta(0, \\xi) = 0,\\text{ for } \\xi \\in \\Omega,\n",
    "$$\n",
    "\n",
    "consider\n",
    "\n",
    "$$\n",
    "\\begin{align*}\n",
    "  \\partial_t \\theta(t, \\xi)\n",
    "  + \\nabla \\cdot (-\\sigma(\\xi) \\nabla \\theta(t, \\xi))\n",
    "  & = 0,\n",
    "\\end{align*}\n",
    "$$\n",
    "\n",
    "with boundary conditions\n",
    "\n",
    "$$\n",
    "\\begin{align*}\n",
    "  \\sigma(\\xi) \\nabla \\theta(t, \\xi) \\cdot n(\\xi) & = u(t)\n",
    "  & t \\in (0, T),\n",
    "  & \\ \\xi \\in \\Gamma_{\\text{in}}, \\\\\n",
    "  \\sigma(\\xi) \\nabla \\theta(t, \\xi) \\cdot n(\\xi) & = 0\n",
    "  & t \\in (0, T),\n",
    "  & \\ \\xi \\in \\Gamma_{\\text{N}}, \\\\\n",
    "  \\theta(t, \\xi) & = 0\n",
    "  & t \\in (0, T),\n",
    "  & \\ \\xi \\in \\Gamma_{\\text{D}},\n",
    "\\end{align*}\n",
    "$$\n",
    "\n",
    "and outputs\n",
    "\n",
    "$$\n",
    "y_i(t) = \\int_{\\Omega_i} \\theta(t, \\xi) \\operatorname{d}\\!{\\xi}, \\quad\n",
    "i = 1, 2, 3, 4.\n",
    "$$\n",
    "\n",
    "</td>\n",
    "<td>\n",
    "<center>\n",
    "<img src=\"./figures/cookie.svg\" alt=\"cookie domain\" width=\"30%\">\n",
    "<img src=\"./figures/Euler_100_Tf.png\" alt=\"cookie snapshot\" width=\"30%\">\n",
    "</center>\n",
    "</td>\n",
    "</tr>\n",
    "</table>"
   ]
  },
  {
   "cell_type": "markdown",
   "id": "b9b52c2b",
   "metadata": {
    "slideshow": {
     "slide_type": "subslide"
    }
   },
   "source": [
    "#### Finite element semi-discretization in space\n",
    "\n",
    "- pairwise inner products of ansatz functions $\\leadsto E$\n",
    "- discretized spatial operator + Dirichlet boundary condition $\\leadsto A$\n",
    "- discretized non-zero Neumann boundary condition $\\leadsto B$\n",
    "- average temperatures on the inclusions $\\leadsto C$\n",
    "\n",
    "---\n",
    "\n",
    "- $n = 7\\,488$\n",
    "- $m = 1$\n",
    "- $p = 4$"
   ]
  },
  {
   "cell_type": "markdown",
   "id": "8198b0ae",
   "metadata": {
    "slideshow": {
     "slide_type": "subslide"
    }
   },
   "source": [
    "### Penzl Example ([MORWiki](https://morwiki.mpi-magdeburg.mpg.de/morwiki/index.php/Penzl%27s_FOM))"
   ]
  },
  {
   "cell_type": "code",
   "execution_count": null,
   "id": "795f5341",
   "metadata": {
    "slideshow": {
     "slide_type": ""
    }
   },
   "outputs": [],
   "source": [
    "import numpy as np\n",
    "import scipy.sparse as sps\n",
    "from pymor.models.iosys import LTIModel\n",
    "\n",
    "A1 = np.array([[-1, 100], [-100, -1]])\n",
    "A2 = np.array([[-1, 200], [-200, -1]])\n",
    "A3 = np.array([[-1, 400], [-400, -1]])\n",
    "A4 = sps.diags(np.arange(-1, -1001, -1))\n",
    "A = sps.block_diag((A1, A2, A3, A4), format='csc')\n",
    "B = np.ones((1006, 1))\n",
    "B[:6] = 10\n",
    "C = B.T\n",
    "\n",
    "fom = LTIModel.from_matrices(A, B, C)"
   ]
  },
  {
   "cell_type": "code",
   "execution_count": null,
   "id": "5b600252",
   "metadata": {
    "slideshow": {
     "slide_type": "fragment"
    }
   },
   "outputs": [],
   "source": [
    "fom"
   ]
  },
  {
   "cell_type": "code",
   "execution_count": null,
   "id": "7b7f7ff1",
   "metadata": {
    "slideshow": {
     "slide_type": "fragment"
    }
   },
   "outputs": [],
   "source": [
    "print(fom)"
   ]
  },
  {
   "cell_type": "markdown",
   "id": "f3dff713",
   "metadata": {
    "slideshow": {
     "slide_type": "subslide"
    }
   },
   "source": [
    "We can perform time-domain simulation, but the final time and the time stepper\n",
    "need to be specified in the `Model`."
   ]
  },
  {
   "cell_type": "code",
   "execution_count": null,
   "id": "d9ae4dc2",
   "metadata": {
    "slideshow": {
     "slide_type": "fragment"
    }
   },
   "outputs": [],
   "source": [
    "from pymor.algorithms.timestepping import ImplicitEulerTimeStepper\n",
    "\n",
    "T = 2\n",
    "nt = 10000\n",
    "fom = fom.with_(T=T, time_stepper=ImplicitEulerTimeStepper(nt))"
   ]
  },
  {
   "cell_type": "markdown",
   "id": "3daad624",
   "metadata": {
    "slideshow": {
     "slide_type": "subslide"
    }
   },
   "source": [
    "We first simulate the impulse response, i.e.,\n",
    "the output in response to $x(0) = 0$ and $u(t) = \\delta(t)$.\n",
    "\n",
    "$$\n",
    "\\begin{align*}\n",
    "  y(t)\n",
    "  & =\n",
    "    C e^{t E^{-1} A} x(0)\n",
    "    + \\int_0^t C e^{\\tau E^{-1} A} E^{-1} B u(t - \\tau) \\operatorname{d\\!}\\tau\n",
    "    + D u(t) \\\\\n",
    "  & =\n",
    "    C e^{t E^{-1} A} E^{-1} B\n",
    "    + D \\delta(t)\n",
    "\\end{align*}\n",
    "$$"
   ]
  },
  {
   "cell_type": "code",
   "execution_count": null,
   "id": "7f530c91",
   "metadata": {
    "slideshow": {
     "slide_type": "fragment"
    }
   },
   "outputs": [],
   "source": [
    "y_impulse = fom.impulse_resp()\n",
    "print(y_impulse.shape)"
   ]
  },
  {
   "cell_type": "code",
   "execution_count": null,
   "id": "352dc223",
   "metadata": {
    "slideshow": {
     "slide_type": "fragment"
    }
   },
   "outputs": [],
   "source": [
    "import matplotlib.pyplot as plt\n",
    "\n",
    "_ = plt.plot(np.linspace(0, T, nt + 1), y_impulse[:, 0, 0])"
   ]
  },
  {
   "cell_type": "markdown",
   "id": "8f2e8a8e",
   "metadata": {
    "slideshow": {
     "slide_type": "subslide"
    }
   },
   "source": [
    "Next we simulate the response to a sinusoidal input."
   ]
  },
  {
   "cell_type": "code",
   "execution_count": null,
   "id": "84550d71",
   "metadata": {
    "slideshow": {
     "slide_type": "fragment"
    }
   },
   "outputs": [],
   "source": [
    "y_sin_100 = fom.output(input='sin(100 * t)')\n",
    "print(y_sin_100.shape)"
   ]
  },
  {
   "cell_type": "code",
   "execution_count": null,
   "id": "16a681d0",
   "metadata": {
    "slideshow": {
     "slide_type": "fragment"
    }
   },
   "outputs": [],
   "source": [
    "_ = plt.plot(np.linspace(0, T, nt + 1), y_sin_100[:, 0])"
   ]
  },
  {
   "cell_type": "code",
   "execution_count": null,
   "id": "e1378296",
   "metadata": {
    "slideshow": {
     "slide_type": "subslide"
    }
   },
   "outputs": [],
   "source": [
    "y_sin_50 = fom.output(input='sin(50 * t)')"
   ]
  },
  {
   "cell_type": "code",
   "execution_count": null,
   "id": "164254be",
   "metadata": {
    "slideshow": {
     "slide_type": "fragment"
    }
   },
   "outputs": [],
   "source": [
    "_ = plt.plot(np.linspace(0, T, nt + 1), y_sin_50[:, 0])"
   ]
  },
  {
   "cell_type": "markdown",
   "id": "cff07e80",
   "metadata": {
    "slideshow": {
     "slide_type": "subslide"
    }
   },
   "source": [
    "#### Exercise\n",
    "\n",
    "- Use the time stepper specified above and simulate the model using the input\n",
    "  function $u(t) = e^{-t}$.\n",
    "- Change the number of timesteps `nt` to `50000`. Repeat the simulation of the\n",
    "  model using $u(t) = e^{-t}$."
   ]
  },
  {
   "cell_type": "code",
   "execution_count": null,
   "id": "c0c02855",
   "metadata": {
    "slideshow": {
     "slide_type": ""
    }
   },
   "outputs": [],
   "source": []
  },
  {
   "cell_type": "markdown",
   "id": "e5a96d8a",
   "metadata": {
    "slideshow": {
     "slide_type": "slide"
    }
   },
   "source": [
    "# Transfer Function"
   ]
  },
  {
   "cell_type": "markdown",
   "id": "a70d3eb9",
   "metadata": {
    "slideshow": {
     "slide_type": "subslide"
    }
   },
   "source": [
    "## Laplace Transform\n",
    "\n",
    "> ### Definition\n",
    ">\n",
    "> Let $f \\colon [0, \\infty) \\to \\mathbb{R}^{n}$ be exponentially bounded with\n",
    "> bounding exponent $\\alpha$.\n",
    "> Then\n",
    "> $$\\mathcal{L}\\{f\\}(s) := \\int_0^\\infty f(\\tau) e^{-s \\tau} \\operatorname{d}\\!{\\tau}$$\n",
    "> for $\\operatorname{Re}(s) > \\alpha$ is called the ***Laplace transform*** of $f$.\n",
    "> The process of forming the Laplace transform is called\n",
    "> ***Laplace transformation***.\n",
    "\n",
    "It can be shown that the integral converges uniformly in a domain with\n",
    "$\\operatorname{Re}(s) \\ge \\beta$ for all $\\beta > \\alpha$."
   ]
  },
  {
   "cell_type": "markdown",
   "id": "ba4e0309",
   "metadata": {
    "slideshow": {
     "slide_type": "fragment"
    }
   },
   "source": [
    "> Allows us to map time signals to frequency signals."
   ]
  },
  {
   "cell_type": "markdown",
   "id": "51b81bf3",
   "metadata": {
    "slideshow": {
     "slide_type": "subslide"
    }
   },
   "source": [
    "> ### Theorem\n",
    ">\n",
    "> Let $f, g, h \\colon [0, \\infty) \\to \\mathbb{R}^n$ be given.\n",
    "> Then the following two statements hold true:\n",
    ">\n",
    "> 1. The Laplace transformation is linear, i.e.,\n",
    ">    if $f$ and $g$ are exponentially bounded,\n",
    ">    then $h := \\gamma f + \\delta g$ is also exponentially bounded and\n",
    ">    $$\n",
    "     \\mathcal{L}\\left\\{h\\right\\} = \\gamma\\mathcal{L}\\left\\{f\\right\\} +\n",
    "     \\delta\\mathcal{L}\\left\\{g\\right\\}\n",
    "     $$\n",
    ">    holds for all $\\gamma, \\delta \\in \\mathbb{C}$.\n",
    "> 2. If $f \\in \\mathcal{PC}^1([0, \\infty), \\mathbb{R}^{n})$ and $\\dot{f}$ is\n",
    ">    exponentially bounded, then $f$ is exponentially bounded and\n",
    ">    $$\n",
    "     \\mathcal{L}\\bigl\\{\\dot{f}\\bigr\\}(s) = s \\mathcal{L}\\{f\\}(s) - f(0).\n",
    "     $$"
   ]
  },
  {
   "cell_type": "markdown",
   "id": "bbe09e74",
   "metadata": {
    "slideshow": {
     "slide_type": "fragment"
    }
   },
   "source": [
    "- $X(s) := \\mathcal{L}\\{x\\}(s)$,\n",
    "  $U(s) := \\mathcal{L}\\{u\\}(s)$, and\n",
    "  $Y(s) := \\mathcal{L}\\{y\\}(s)$\n",
    "- $A x(t) + B u(t) \\leadsto A X(s) + B U(s)$\n",
    "- $y(t) = C x(t) \\leadsto Y(s) = C X(s)$\n",
    "- $s X(s) := \\mathcal{L}\\{\\dot{x}\\}(s)$ (since $x(0) = 0$)"
   ]
  },
  {
   "cell_type": "markdown",
   "id": "a45dfe62",
   "metadata": {
    "slideshow": {
     "slide_type": "subslide"
    }
   },
   "source": [
    "## Transfer Function\n",
    "\n",
    "In summary we have:\n",
    "\n",
    "- $s E X(s) = A X(s) + B U(s)$\n",
    "- $Y(s) = C X(s)$\n",
    "\n",
    "Thus the mapping from inputs to outputs in frequency domain can be expressed as\n",
    "\n",
    "$$\n",
    "H(s) = C {\\left(s E - A\\right)}^{-1} B.\n",
    "$$"
   ]
  },
  {
   "cell_type": "markdown",
   "id": "353b894e",
   "metadata": {
    "slideshow": {
     "slide_type": "fragment"
    }
   },
   "source": [
    "$$\n",
    "H \\text{ is analytic in } \\mathbb{C} \\setminus \\Lambda(E, A).\n",
    "$$"
   ]
  },
  {
   "cell_type": "markdown",
   "id": "379820ab",
   "metadata": {
    "slideshow": {
     "slide_type": "fragment"
    }
   },
   "source": [
    "### Pole-residue Form\n",
    "\n",
    "Let $(\\lambda_{i}, w_{i}, v_{i})$ be the eigentriplets of the pair $(E, A)$\n",
    "with no degenerate eigenspaces.\n",
    "Then the ***poles*** of $H$ are given by the eigenvalues\n",
    "$\\lambda_1,\\ldots,\\lambda_n$ and we have\n",
    "\n",
    "$$\n",
    "H(s) = \\sum_{i = 1}^{n} \\frac{R_{i}}{s - \\lambda_{i}},\n",
    "$$\n",
    "\n",
    "where $R_{i} = (C v_{i}) (w_{i}^{\\operatorname{H}} B)$,\n",
    "assuming $w_{i}^{\\operatorname{H}} E v_{i} = 1$."
   ]
  },
  {
   "cell_type": "markdown",
   "id": "78029c12",
   "metadata": {
    "slideshow": {
     "slide_type": "subslide"
    }
   },
   "source": [
    "### Example"
   ]
  },
  {
   "cell_type": "code",
   "execution_count": null,
   "id": "340706d3",
   "metadata": {
    "slideshow": {
     "slide_type": "-"
    }
   },
   "outputs": [],
   "source": [
    "fom.transfer_function"
   ]
  },
  {
   "cell_type": "code",
   "execution_count": null,
   "id": "5b0380d4",
   "metadata": {
    "slideshow": {
     "slide_type": "-"
    }
   },
   "outputs": [],
   "source": [
    "fom.transfer_function.eval_tf(0)"
   ]
  },
  {
   "cell_type": "code",
   "execution_count": null,
   "id": "16e6904e",
   "metadata": {
    "slideshow": {
     "slide_type": "-"
    }
   },
   "outputs": [],
   "source": [
    "fom.transfer_function.eval_tf(10j)"
   ]
  },
  {
   "cell_type": "markdown",
   "id": "515bdbe5",
   "metadata": {
    "slideshow": {
     "slide_type": "subslide"
    }
   },
   "source": [
    "#### Exercise\n",
    "\n",
    "- Use the [`poles`](https://docs.pymor.org/2023-1-0/autoapi/pymor/models/iosys/index.html#pymor.models.iosys.LTIModel.poles) method of the [`LTIModel`](https://docs.pymor.org/2023-1-0/autoapi/pymor/models/iosys/index.html#pymor.models.iosys.LTIModel) class to compute the poles of the transfer function of `fom`.\n",
    "  Compute the imaginary parts of the poles.\n",
    "- Evaluate the transfer function for several values on the imaginary axis.\n",
    "  Select some values that correspond to the imaginary parts of the poles and\n",
    "  others which are close by."
   ]
  },
  {
   "cell_type": "code",
   "execution_count": null,
   "id": "5ee261c1",
   "metadata": {
    "slideshow": {
     "slide_type": ""
    }
   },
   "outputs": [],
   "source": [
    "fom.poles()"
   ]
  },
  {
   "cell_type": "markdown",
   "id": "2d327150",
   "metadata": {
    "slideshow": {
     "slide_type": "subslide"
    }
   },
   "source": [
    "### Frequency-Domain Analysis\n",
    "\n",
    "#### Bode Plots\n",
    "\n",
    "The Bode plot for $H$ consists of a ***magnitude plot*** and a ***phase plot***.\n",
    "\n",
    "> ##### Bode magnitude plot\n",
    ">\n",
    "> - component-wise graph of the function $\\lvert H(\\boldsymbol{\\imath} \\omega) \\rvert$\n",
    ">   for frequencies $\\omega \\in [\\omega_{\\min}, \\omega_{\\max}] \\subset \\mathbb{R}$.\n",
    "> - $\\omega$-axis is logarithmic.\n",
    "> - magnitude is given in decibels, i.e., $\\lvert H(\\boldsymbol{\\imath} \\cdot) \\rvert$ is\n",
    ">   plotted as $20 \\log_{10}(\\lvert H(\\boldsymbol{\\imath} \\cdot) \\rvert)$.\n",
    "\n",
    "> ##### Bode phase plot\n",
    ">\n",
    "> - component-wise graph of the function $\\arg{H(\\boldsymbol{\\imath} \\omega)}$\n",
    ">   for frequencies $\\omega \\in [\\omega_{\\min}, \\omega_{\\max}] \\subset \\mathbb{R}$.\n",
    "> - $\\omega$-axis is logarithmic.\n",
    "> - phase is given in degrees on a linear scale."
   ]
  },
  {
   "cell_type": "markdown",
   "id": "c3720a8e",
   "metadata": {
    "slideshow": {
     "slide_type": "subslide"
    }
   },
   "source": [
    "#### Bode Plot for the Thermal Block Example\n",
    "\n",
    "<center>\n",
    "<img src=\"./figures/cookie_bode.svg\" alt=\"cookie bode\" width=\"60%\">\n",
    "</center>"
   ]
  },
  {
   "cell_type": "code",
   "execution_count": null,
   "id": "8e191854",
   "metadata": {
    "slideshow": {
     "slide_type": "subslide"
    }
   },
   "outputs": [],
   "source": [
    "# w = (1e-1, 1e5)\n",
    "w, _ = fom.transfer_function.freq_resp((1e-1, 1e5))"
   ]
  },
  {
   "cell_type": "code",
   "execution_count": null,
   "id": "41231e1b",
   "metadata": {
    "slideshow": {
     "slide_type": "fragment"
    }
   },
   "outputs": [],
   "source": [
    "_ = fom.transfer_function.bode_plot(w)"
   ]
  },
  {
   "cell_type": "markdown",
   "id": "43a50a32",
   "metadata": {
    "slideshow": {
     "slide_type": "subslide"
    }
   },
   "source": [
    "> #### (Sigma) Magnitude Plots\n",
    ">\n",
    "> - 2-norm-wise graph of the function $H(\\boldsymbol{\\imath} \\omega)$\n",
    ">   for frequencies $\\omega \\in [\\omega_{\\min}, \\omega_{\\max}] \\subset \\mathbb{R}$.\n",
    "> - $\\omega$-axis is logarithmic.\n",
    "\n",
    "The name is due to the fact that for a given matrix $M$ the norm\n",
    "$\\lVert M \\rVert_2$ is given by its largest singular value.\n",
    "\n",
    "The real sigma magnitude plot depicts all singular values as functions of\n",
    "$\\omega$."
   ]
  },
  {
   "cell_type": "code",
   "execution_count": null,
   "id": "467071f0",
   "metadata": {
    "slideshow": {
     "slide_type": "fragment"
    }
   },
   "outputs": [],
   "source": [
    "_ = fom.transfer_function.mag_plot(w)"
   ]
  },
  {
   "cell_type": "markdown",
   "id": "e6f719c0",
   "metadata": {
    "slideshow": {
     "slide_type": "slide"
    }
   },
   "source": [
    "## Projection-based MOR\n",
    "\n",
    "### Ritz/Petrov-Galerkin Projection\n",
    "\n",
    "$$\n",
    "\\begin{align*}\n",
    "  E \\dot{x}(t) - A x(t) - B u(t) & = 0, \\\\\n",
    "  y(t) - C x(t) - D u(t) & = 0.\n",
    "\\end{align*}\n",
    "$$"
   ]
  },
  {
   "cell_type": "markdown",
   "id": "04760edf",
   "metadata": {
    "slideshow": {
     "slide_type": "subslide"
    }
   },
   "source": [
    "**Step I: Use truncated state transformation**\n",
    "\n",
    "Replace\n",
    "\n",
    "$$\n",
    "x(t) \\approx V \\hat{x}(t)\n",
    "$$\n",
    "\n",
    "with $V \\in \\mathbb{R}^{n \\times r}$ and $\\hat{x}(t) \\in \\mathbb{R}^{r}$.\n",
    "\n",
    "$$\n",
    "\\begin{align*}\n",
    "  E V \\dot{\\hat{x}}(t) - A V \\hat{x}(t) - B u(t) & = e_{\\text{res}}(t), \\\\\n",
    "  y(t) - C V \\hat{x}(t) - D u(t) & = e_{\\text{output}}(t).\n",
    "\\end{align*}\n",
    "$$"
   ]
  },
  {
   "cell_type": "markdown",
   "id": "371dcc7d",
   "metadata": {
    "slideshow": {
     "slide_type": "subslide"
    }
   },
   "source": [
    "**Step II: Mitigate transformation error**\n",
    "\n",
    "Suppress truncation residual through left projection.\n",
    "\n",
    "- one-sided method: use $V$ again.\n",
    "\n",
    "  $$\n",
    "  \\begin{align*}\n",
    "    V^{\\operatorname{T}} E V \\dot{\\hat{x}}(t)\n",
    "    - V^{\\operatorname{T}} A V \\hat{x}(t)\n",
    "    - V^{\\operatorname{T}} B u(t)\n",
    "    & = 0, \\\\\n",
    "    y(t) - C V \\hat{x}(t) - D u(t) & = e_{\\text{output}}(t).\n",
    "  \\end{align*}\n",
    "  $$"
   ]
  },
  {
   "cell_type": "markdown",
   "id": "3022af06",
   "metadata": {
    "slideshow": {
     "slide_type": "subslide"
    }
   },
   "source": [
    "- two-sided method: find $W \\in \\mathbb{R}^{n \\times r}$.\n",
    "\n",
    "  $$\n",
    "  \\begin{align*}\n",
    "    W^{\\operatorname{T}} E V \\dot{\\hat{x}}(t)\n",
    "    - W^{\\operatorname{T}} A V \\hat{x}(t)\n",
    "    - W^{\\operatorname{T}} B u(t)\n",
    "    & = 0, \\\\\n",
    "    y(t) - C V \\hat{x}(t) - D u(t) & = e_{\\text{output}}(t).\n",
    "  \\end{align*}\n",
    "  $$"
   ]
  },
  {
   "cell_type": "markdown",
   "id": "c6221b98",
   "metadata": {
    "slideshow": {
     "slide_type": "subslide"
    }
   },
   "source": [
    "<center>\n",
    "<img src=\"./figures/compress_A.svg\" alt=\"compress A\" width=\"80%\">\n",
    "</center>"
   ]
  },
  {
   "cell_type": "markdown",
   "id": "3b3e3541",
   "metadata": {
    "slideshow": {
     "slide_type": "subslide"
    }
   },
   "source": [
    "### Reduced order model (ROM) (pyMOR: [`LTIPGReductor`](https://docs.pymor.org/2023-1-0/autoapi/pymor/reductors/basic/index.html?highlight=ltipgred#pymor.reductors.basic.LTIPGReductor))\n",
    "\n",
    "Define\n",
    "$\\hat{E} = W^{\\operatorname{T}} E V$,\n",
    "$\\hat{A} = W^{\\operatorname{T}} A V \\in \\mathbb{R}^{r \\times r}$,\n",
    "$\\hat{B} = W^{\\operatorname{T}} B \\in \\mathbb{R}^{r \\times m}$, and\n",
    "$\\hat{C} = C V \\in \\mathbb{R}^{p \\times r}$.\n",
    "Then\n",
    "\n",
    "$$\n",
    "\\begin{equation}\\tag{ROM}\n",
    "  \\begin{aligned}\n",
    "    \\hat{E} \\dot{\\hat{x}}(t) & = \\hat{A} \\hat{x}(t) + \\hat{B} u(t), \\\\\n",
    "    \\hat{y}(t) & = \\hat{C} \\hat{x}(t) + D u(t)\n",
    "  \\end{aligned}\n",
    "\\end{equation}\n",
    "$$\n",
    "\n",
    "approximates the dynamics of the full-order model $\\Sigma$ with output error\n",
    "\n",
    "$$\n",
    "y(t) - \\hat{y}(t) = e_{\\text{output}}(t).\n",
    "$$\n",
    "\n",
    "- We call the corresponding transfer function $\\hat{H}$.\n",
    "- Model order reduction (MOR) $\\leadsto$\n",
    "  Find $W, V \\in \\mathbb{R}^{n \\times r}$ such that $e_{\\text{output}}(t)$ is\n",
    "  small in a suitable sense.\n",
    "- We will focus on eigenvalue-based, energy-based and\n",
    "  interpolation-based methods today."
   ]
  },
  {
   "cell_type": "markdown",
   "id": "a28aa700",
   "metadata": {
    "slideshow": {
     "slide_type": "subslide"
    }
   },
   "source": [
    "### Example"
   ]
  },
  {
   "cell_type": "code",
   "execution_count": null,
   "id": "31e5d7a3",
   "metadata": {
    "slideshow": {
     "slide_type": "-"
    }
   },
   "outputs": [],
   "source": [
    "from pymor.reductors.basic import LTIPGReductor\n",
    "\n",
    "V = fom.solution_space.random(10)\n",
    "pg = LTIPGReductor(fom, V, V)\n",
    "rom_pg = pg.reduce()"
   ]
  },
  {
   "cell_type": "markdown",
   "id": "bf8a91ad",
   "metadata": {
    "slideshow": {
     "slide_type": "subslide"
    }
   },
   "source": [
    "The resulting model `rom_pg` will again be an\n",
    "[`LTIModel`](https://docs.pymor.org/2023-1-0/autoapi/pymor/models/iosys/index.html?highlight=ltimodel#pymor.models.iosys.LTIModel)."
   ]
  },
  {
   "cell_type": "code",
   "execution_count": null,
   "id": "79420e7a",
   "metadata": {
    "slideshow": {
     "slide_type": "-"
    }
   },
   "outputs": [],
   "source": [
    "rom_pg"
   ]
  },
  {
   "cell_type": "code",
   "execution_count": null,
   "id": "978fc8e1",
   "metadata": {
    "slideshow": {
     "slide_type": "subslide"
    }
   },
   "outputs": [],
   "source": [
    "_ = fom.transfer_function.mag_plot(w, label='FOM')\n",
    "_ = rom_pg.transfer_function.mag_plot(w, label='Random PG')\n",
    "_ = plt.legend()"
   ]
  },
  {
   "cell_type": "markdown",
   "id": "2473a4c3",
   "metadata": {
    "slideshow": {
     "slide_type": "subslide"
    }
   },
   "source": [
    "#### Exercise\n",
    "\n",
    "- Simulate the state of the `rom_pg` with $u(t) = e^{-t}$ from $t_{start}=0$ to\n",
    "  $t_{end}=2$ using its\n",
    "  [`solve`](https://docs.pymor.org/2023-1-0/autoapi/pymor/models/interface/index.html#pymor.models.interface.Model.solve)\n",
    "method.\n",
    "- The solve method computes a\n",
    "  [`VectorArray`](https://docs.pymor.org/2023-1-0/autoapi/pymor/vectorarrays/interface/index.html?highlight=vectorarray#pymor.vectorarrays.interface.VectorArray)\n",
    "  with all computed state vectors from the time-domain simulation.\n",
    "  Consider the last state (i.e., at time $t_{end}$) from the previous\n",
    "  computation.\n",
    "  Use the\n",
    "  [`reconstruct`](https://docs.pymor.org/2023-1-0/autoapi/pymor/reductors/basic/index.html?highlight=reconstruct#pymor.reductors.basic.LTIPGReductor.reconstruct)\n",
    "  method of `pg` to obtain the reconstructed state vector in the full-order\n",
    "  model state space.\n",
    "- Perform the same simulation with `fom`.\n",
    "  Compare the final state with the state that has been reconstructed using the\n",
    "  ROM simulation."
   ]
  },
  {
   "cell_type": "code",
   "execution_count": null,
   "id": "51d0c527",
   "metadata": {
    "slideshow": {
     "slide_type": "-"
    }
   },
   "outputs": [],
   "source": []
  },
  {
   "cell_type": "markdown",
   "id": "7654fe47",
   "metadata": {
    "slideshow": {
     "slide_type": "slide"
    }
   },
   "source": [
    "# System Analysis\n",
    "\n",
    "## System Norms and Hardy Spaces\n",
    "\n",
    "We have $$Y(s) = H(s) U(s)$$ and $$\\hat{Y}(s) = \\hat{H}(s) U(s).$$\n",
    "\n",
    "> ### Question\n",
    ">\n",
    "> What are suitable norms such that\n",
    ">\n",
    "> $$\n",
    "  \\lVert y - \\hat{y} \\rVert\n",
    "  \\le\n",
    "  \\left\\lVert H - \\hat{H} \\right\\rVert\n",
    "  \\lVert u \\rVert?\n",
    "  $$"
   ]
  },
  {
   "cell_type": "markdown",
   "id": "fbdf3634",
   "metadata": {
    "slideshow": {
     "slide_type": "subslide"
    }
   },
   "source": [
    "### The Banach Space $\\mathcal{H}_\\infty^{p \\times m}$\n",
    "\n",
    "$$\n",
    "\\mathcal{H}_\\infty^{p \\times m}\n",
    ":=\n",
    "\\left\\{\n",
    "  G \\colon \\mathbb{C}^+ \\to \\mathbb{C}^{p \\times m} :\n",
    "  G \\text{ is analytic in $\\mathbb{C}^+$ and }\n",
    "  \\sup_{s \\in \\mathbb{C}^+} \\left\\lVert G(s) \\right\\rVert_2 < \\infty\n",
    "\\right\\}.\n",
    "$$"
   ]
  },
  {
   "cell_type": "markdown",
   "id": "b7211dec",
   "metadata": {
    "slideshow": {
     "slide_type": "fragment"
    }
   },
   "source": [
    "$\\mathcal{H}_\\infty^{p \\times m}$ is a Banach space equipped with the\n",
    "***$\\mathcal{H}_\\infty$-norm***\n",
    "\n",
    "$$\n",
    "\\left\\lVert G \\right\\rVert_{\\mathcal{H}_\\infty}\n",
    ":= \\sup_{\\omega \\in \\mathbb{R}}\n",
    "\\left\\lVert G(\\boldsymbol{\\imath} \\omega) \\right\\rVert_2.\n",
    "$$"
   ]
  },
  {
   "cell_type": "markdown",
   "id": "92ecacc3",
   "metadata": {
    "slideshow": {
     "slide_type": "fragment"
    }
   },
   "source": [
    "> Can show:\n",
    ">\n",
    "> $$\n",
    "  \\lVert y - \\hat{y} \\rVert_{\\mathcal{L}_{2}}\n",
    "  \\le\n",
    "  \\left\\lVert H - \\hat{H} \\right\\rVert_{\\mathcal{H}_{\\infty}}\n",
    "  \\lVert u \\rVert_{\\mathcal{L}_{2}}.\n",
    "  $$\n",
    "\n",
    "This bound can even be shown to be sharp."
   ]
  },
  {
   "cell_type": "code",
   "execution_count": null,
   "id": "3c4bb140",
   "metadata": {
    "slideshow": {
     "slide_type": "subslide"
    }
   },
   "outputs": [],
   "source": [
    "fom.hinf_norm()"
   ]
  },
  {
   "cell_type": "markdown",
   "id": "cf9123b0",
   "metadata": {
    "slideshow": {
     "slide_type": "subslide"
    }
   },
   "source": [
    "### The Hilbert Space $\\mathcal{H}_2^{p \\times m}$\n",
    "\n",
    "$$\n",
    "\\mathcal{H}_2^{p \\times m}\n",
    ":= \\left\\{\n",
    "  G \\colon \\mathbb{C}^+ \\to \\mathbb{C}^{p \\times m} :\n",
    "  G \\text{ is analytic in $\\mathbb{C}^+$ and }\n",
    "  \\sup_{\\xi > 0}\n",
    "  \\int_{-\\infty}^\\infty\n",
    "  \\left\\lVert\n",
    "  G(\\xi + \\boldsymbol{\\imath} \\omega)\n",
    "  \\right\\rVert_{\\operatorname{F}}^2\n",
    "  \\operatorname{d}\\!{\\omega}\n",
    "  < \\infty\n",
    "\\right\\}.\n",
    "$$"
   ]
  },
  {
   "cell_type": "markdown",
   "id": "6e2ffbec",
   "metadata": {
    "slideshow": {
     "slide_type": "fragment"
    }
   },
   "source": [
    "$\\mathcal{H}_2^{p \\times m}$ is a Hilbert space with the inner product\n",
    "\n",
    "$$\n",
    "\\langle F, G \\rangle_{\\mathcal{H}_2}\n",
    ":=\n",
    "\\frac{1}{2 \\pi}\n",
    "\\int_{-\\infty}^\\infty\n",
    "\\operatorname{tr}\\!\\left(\n",
    "  {F(\\boldsymbol{\\imath} \\omega)}^{\\operatorname{H}}\n",
    "  G(\\boldsymbol{\\imath} \\omega)\n",
    "\\right)\n",
    "\\operatorname{d}\\!{\\omega}\n",
    "$$\n",
    "\n",
    "and induced norm\n",
    "\n",
    "$$\n",
    "\\left\\lVert G \\right\\rVert_{\\mathcal{H}_2}\n",
    ":= \\langle G, G \\rangle_{\\mathcal{H}_2}^{1/2}\n",
    "= {\n",
    "  \\left(\n",
    "    \\frac{1}{2 \\pi}\n",
    "    \\int_{-\\infty}^\\infty\n",
    "    \\left\\lVert G(\\boldsymbol{\\imath} \\omega) \\right\\rVert_{\\operatorname{F}}^2\n",
    "    \\operatorname{d}\\!{\\omega}\n",
    "  \\right)\n",
    "}^{1/2}.\n",
    "$$"
   ]
  },
  {
   "cell_type": "markdown",
   "id": "ae45af70",
   "metadata": {
    "slideshow": {
     "slide_type": "fragment"
    }
   },
   "source": [
    "> Can show:\n",
    ">\n",
    "> $$\n",
    "  \\lVert y - \\hat{y} \\rVert_{\\mathcal{L}_{\\infty}}\n",
    "  \\le\n",
    "  \\left\\lVert H - \\hat{H} \\right\\rVert_{\\mathcal{H}_{2}}\n",
    "  \\lVert u \\rVert_{\\mathcal{L}_{2}}.\n",
    "  $$"
   ]
  },
  {
   "cell_type": "code",
   "execution_count": null,
   "id": "d92c879d",
   "metadata": {
    "slideshow": {
     "slide_type": "subslide"
    }
   },
   "outputs": [],
   "source": [
    "fom.h2_norm()"
   ]
  },
  {
   "cell_type": "markdown",
   "id": "acdd8e31",
   "metadata": {
    "slideshow": {
     "slide_type": "subslide"
    }
   },
   "source": [
    "### System Gramians and $\\mathcal{H}_{2}$ trace formula\n",
    "\n",
    "A system $\\Sigma$ with $\\Lambda(E, A) \\subset \\mathbb{C}^{-}$ is called\n",
    "***asymptotically stable***.\n",
    "Then, all state trajectories decay exponentially as $t \\to \\infty$ and\n",
    "\n",
    "- the infinite controllability and observability ***Gramians*** exist:\n",
    "\n",
    "  $$\n",
    "  \\begin{align*}\n",
    "    P\n",
    "    & =\n",
    "      \\int_0^{\\infty}\n",
    "      e^{E^{-1} A t}\n",
    "      E^{-1}\n",
    "      B B^{\\operatorname{T}}\n",
    "      E^{-\\operatorname{T}}\n",
    "      e^{A^{\\operatorname{T}} E^{-\\operatorname{T}} t}\n",
    "      \\operatorname{d}\\!{t} \\\\\n",
    "    E^{\\operatorname{T}} Q E\n",
    "    & =\n",
    "      \\int_0^{\\infty}\n",
    "      e^{A^{\\operatorname{T}} E^{-\\operatorname{T}} t}\n",
    "      C^{\\operatorname{T}} C\n",
    "      e^{E^{-1} A t}\n",
    "      \\operatorname{d}\\!{t}.\n",
    "  \\end{align*}\n",
    "  $$\n",
    "- $P$, $Q$ solve the two ***Lyapunov equations***\n",
    "\n",
    "  $$\n",
    "  A P E^{\\operatorname{T}} + E P A^{\\operatorname{T}} + B B^{\\operatorname{T}} = 0, \\qquad\n",
    "  A^{\\operatorname{T}} Q E + E^{\\operatorname{T}} Q A + C^{\\operatorname{T}} C = 0\n",
    "  $$\n",
    "<!-- - If $(A, B)$ is controllable and $(A, C)$ is observable, -->\n",
    "<!--   it moreover holds that $P = P^{\\operatorname{T}} \\succ 0$ and $Q = Q^{\\operatorname{T}} \\succ 0$. -->\n",
    "<!--   (Otherwise we just have $P = P^{\\operatorname{T}} \\succcurlyeq 0$ and -->\n",
    "<!--   $Q = Q^{\\operatorname{T}} \\succcurlyeq 0$.) -->\n",
    "\n",
    "- the $\\mathcal{H}_{2}$-norm can be expressed as\n",
    "\n",
    "  $$\n",
    "  \\lVert H \\rVert_{\\mathcal{H}_{2}}^{2}\n",
    "  = \\operatorname{tr}\\!\\left(C P C^{\\operatorname{T}}\\right)\n",
    "  = \\operatorname{tr}\\!\\left(B^{\\operatorname{T}} Q B\\right).\n",
    "  $$"
   ]
  },
  {
   "cell_type": "markdown",
   "id": "d04ae415",
   "metadata": {
    "slideshow": {
     "slide_type": "slide"
    }
   },
   "source": [
    "# A Selection of MOR Methods"
   ]
  },
  {
   "cell_type": "markdown",
   "id": "cd3fa544",
   "metadata": {
    "slideshow": {
     "slide_type": "subslide"
    }
   },
   "source": [
    "## Modal Methods"
   ]
  },
  {
   "cell_type": "markdown",
   "id": "1ea69f1d",
   "metadata": {
    "slideshow": {
     "slide_type": "subslide"
    }
   },
   "source": [
    "### Modal Coordinates\n",
    "\n",
    "Assume that the pair $(E, A)$ is simultaneously diagonalizable in\n",
    "$\\mathbb{C}^{n \\times n}$.\n",
    "\n",
    "> #### Classic Modal Truncation\n",
    ">\n",
    "> - Compute diagonal realization from an eigendecomposition.\n",
    "> - State-space transformation matrices contain eigenvectors (modes).\n",
    "> - Use $W = V$.\n",
    "> - Populate $V$ with modes corresponding to eigenvalues closest to\n",
    ">   $\\boldsymbol{\\imath} \\mathbb{R}$.\n",
    "> - Add a few domain-specific or \"anxiety\" modes.\n",
    "\n",
    "> #### Problem\n",
    ">\n",
    "> - Does not take inputs and outputs into account!\n",
    "> - How many \"anxiety\" modes are necessary?"
   ]
  },
  {
   "cell_type": "markdown",
   "id": "82a31658",
   "metadata": {
    "slideshow": {
     "slide_type": "subslide"
    }
   },
   "source": [
    "### Dominant Poles Approximation (pyMOR: [`MTReductor`](https://docs.pymor.org/2023-1-0/autoapi/pymor/reductors/mt/index.html?highlight=mtreductor#pymor.reductors.mt.MTReductor))\n",
    "\n",
    "Recall the pole residue form of the transfer function\n",
    "\n",
    "$$\n",
    "H(s) = \\sum_{i = 1}^{n} \\frac{R_{i}}{s - \\lambda_{i}},\n",
    "$$\n",
    "\n",
    "where $R_{i} = (C v_{i})(w_{i}^{\\operatorname{H}} B)$, assuming\n",
    "$w_{i}^{\\operatorname{H}} E v_{i} = 1$."
   ]
  },
  {
   "cell_type": "markdown",
   "id": "a3840136",
   "metadata": {
    "slideshow": {
     "slide_type": "fragment"
    }
   },
   "source": [
    "Suppose the modes are sorted based on the magnitude of the\n",
    "$\\lVert R_{i} \\rVert / \\operatorname{Re}(\\lambda_{i})$.\n",
    "Then we use the truncated pole residue form\n",
    "\n",
    "$$\n",
    "H(s) = \\sum_{i = 1}^{r} \\frac{R_{i}}{s - \\lambda_{i}},\n",
    "$$\n",
    "\n",
    "as our ROM. This is motivated by the following\n",
    "\n",
    "> #### Error bound\n",
    ">\n",
    "> $$\n",
    "  \\left\\lVert H - \\hat{H} \\right\\rVert_{\\mathcal{H}_\\infty}\n",
    "  \\le\n",
    "  \\sum_{i = r + 1}^{n}\n",
    "  \\frac{\\lVert R_{i} \\rVert}{\\lvert \\operatorname{Re}(\\lambda_{i}) \\rvert}\n",
    "  $$"
   ]
  },
  {
   "cell_type": "markdown",
   "id": "77342979",
   "metadata": {
    "slideshow": {
     "slide_type": "fragment"
    }
   },
   "source": [
    "Computation is feasible via *subspace accelerated MIMO dominant pole algorithm*\n",
    "(SAMDP)."
   ]
  },
  {
   "cell_type": "code",
   "execution_count": null,
   "id": "6222ece2",
   "metadata": {
    "slideshow": {
     "slide_type": "subslide"
    }
   },
   "outputs": [],
   "source": [
    "from pymor.reductors.mt import MTReductor\n",
    "\n",
    "mt = MTReductor(fom)\n",
    "rom_mt = mt.reduce(10)"
   ]
  },
  {
   "cell_type": "code",
   "execution_count": null,
   "id": "44447731",
   "metadata": {
    "slideshow": {
     "slide_type": "subslide"
    }
   },
   "outputs": [],
   "source": [
    "_ = fom.transfer_function.mag_plot(w, label='FOM')\n",
    "_ = rom_mt.transfer_function.mag_plot(w, label='MT')\n",
    "_ = plt.legend()"
   ]
  },
  {
   "cell_type": "code",
   "execution_count": null,
   "id": "9b09b2d2",
   "metadata": {
    "slideshow": {
     "slide_type": "subslide"
    }
   },
   "outputs": [],
   "source": [
    "err_mt = fom - rom_mt"
   ]
  },
  {
   "cell_type": "code",
   "execution_count": null,
   "id": "e68e798a",
   "metadata": {
    "slideshow": {
     "slide_type": "-"
    }
   },
   "outputs": [],
   "source": [
    "_ = err_mt.transfer_function.mag_plot(w, label='MT')\n",
    "_ = plt.legend()"
   ]
  },
  {
   "cell_type": "markdown",
   "id": "2966be8f",
   "metadata": {
    "slideshow": {
     "slide_type": "subslide"
    }
   },
   "source": [
    "#### Exercise\n",
    "\n",
    "- Compute the $\\mathcal{H}_2$-norm of the error system `err_mt`.\n",
    "  Note that the\n",
    "  [`LTIModel`](https://docs.pymor.org/2023-1-0/autoapi/pymor/models/iosys/index.html?highlight=ltimodel#pymor.models.iosys.LTIModel)\n",
    "  class has an\n",
    "  [`h2_norm`](iosys/index.html?highlight=ltimodel#pymor.models.iosys.LTIModel.h2_norm)\n",
    "  method.\n",
    "- Consider the input $u(t) = e^{-t}$ which has the $\\mathcal{L}_{2}$-norm\n",
    "  $\\lVert u \\rVert_{\\mathcal{L}_{2}} = \\frac{\\sqrt{2}}{2}$.\n",
    "  Simulate the error system `err_mt` with the input $u(t) = e^{-t}$ and verify\n",
    "  the input-output error bound $\\lVert y - \\hat{y} \\rVert_{\\mathcal{L}_{\\infty}}\n",
    "  \\le\n",
    "  \\left\\lVert H - \\hat{H} \\right\\rVert_{\\mathcal{H}_{2}}\n",
    "  \\lVert u \\rVert_{\\mathcal{L}_{2}}$."
   ]
  },
  {
   "cell_type": "code",
   "execution_count": null,
   "id": "9599930c",
   "metadata": {
    "slideshow": {
     "slide_type": "-"
    }
   },
   "outputs": [],
   "source": []
  },
  {
   "cell_type": "markdown",
   "id": "0fa64344",
   "metadata": {
    "slideshow": {
     "slide_type": "subslide"
    }
   },
   "source": [
    "## Balancing-based MOR\n",
    "\n",
    "### Balanced Truncation aka. Lyapunov Balancing\n",
    "\n",
    "#### Idea\n",
    "\n",
    "- The system $\\Sigma$, in realization $(E = I, A, B, C)$,\n",
    "  is called ***balanced***, if the solutions $P, Q$ of the Lyapunov equations\n",
    "\n",
    "  $$\n",
    "  A P + P A^{\\operatorname{T}} + B B^{\\operatorname{T}} = 0, \\qquad\n",
    "  A^{\\operatorname{T}} Q + Q A + C^{\\operatorname{T}} C = 0,\n",
    "  $$\n",
    "\n",
    "  satisfy:\n",
    "  $P = Q = \\operatorname{diag}(\\sigma_1, \\ldots, \\sigma_n)$\n",
    "  where\n",
    "  $\\sigma_1 \\ge \\sigma_2 \\ge \\cdots \\ge \\sigma_n > 0$."
   ]
  },
  {
   "cell_type": "markdown",
   "id": "c07267a4",
   "metadata": {
    "slideshow": {
     "slide_type": "fragment"
    }
   },
   "source": [
    "- $\\{\\sigma_1, \\ldots, \\sigma_n\\}$ are the *Hankel singular values (HSVs)* of\n",
    "  $\\Sigma$."
   ]
  },
  {
   "cell_type": "markdown",
   "id": "9e2ba641",
   "metadata": {
    "slideshow": {
     "slide_type": "fragment"
    }
   },
   "source": [
    "- A so-called ***balanced realization*** is computed via state-space transformation\n",
    "\n",
    "  $$\n",
    "  \\begin{align*}\n",
    "    \\mathcal{T} \\colon (I, A, B, C) \\mapsto {} & (I, T A T^{-1}, T B, C T^{-1}) \\\\\n",
    "    & =\n",
    "      \\left(\n",
    "        I,\n",
    "        \\begin{bmatrix}\n",
    "          A_{11} & A_{12} \\\\\n",
    "          A_{21} & A_{22}\n",
    "        \\end{bmatrix},\n",
    "        \\begin{bmatrix}\n",
    "          B_{1} \\\\\n",
    "          B_{2}\n",
    "        \\end{bmatrix},\n",
    "        \\begin{bmatrix}\n",
    "          C_{1} & C_{2}\n",
    "        \\end{bmatrix}\n",
    "      \\right).\n",
    "  \\end{align*}\n",
    "  $$"
   ]
  },
  {
   "cell_type": "markdown",
   "id": "9c4afae5",
   "metadata": {},
   "source": [
    "- In a balanced realization the state variables are sorted based on their\n",
    "  contribution to the input-output mapping."
   ]
  },
  {
   "cell_type": "markdown",
   "id": "8c3ede88",
   "metadata": {
    "slideshow": {
     "slide_type": "fragment"
    }
   },
   "source": [
    "- Truncation removes state variables which are not important for input-output\n",
    "  behavior $\\leadsto$ reduced order model:\n",
    "  $(I, \\hat{A}, \\hat{B}, \\hat{C}) = (I, A_{11}, B_{1}, C_{1})$."
   ]
  },
  {
   "cell_type": "markdown",
   "id": "09839e62",
   "metadata": {
    "slideshow": {
     "slide_type": "subslide"
    }
   },
   "source": [
    "### Implementation: The Square Root Method\n",
    "\n",
    "#### The SR Method (pyMOR: [`BTReductor`](https://docs.pymor.org/2023-1-0/autoapi/pymor/reductors/bt/index.html?highlight=btreductor#pymor.reductors.bt.BTReductor))\n",
    "\n",
    "1. Compute (Cholesky) factors of the solutions to the Lyapunov equation,\n",
    "\n",
    "   $$\n",
    "   P = S^{\\operatorname{T}} S, \\quad\n",
    "   Q = R^{\\operatorname{T}} R.\n",
    "   $$"
   ]
  },
  {
   "cell_type": "markdown",
   "id": "eca545b2",
   "metadata": {
    "slideshow": {
     "slide_type": "fragment"
    }
   },
   "source": [
    "2. Compute singular value decomposition\n",
    "\n",
    "   $$\n",
    "   S R^{\\operatorname{T}}\n",
    "   =\n",
    "   \\begin{bmatrix}\n",
    "     U_1 & U_2\n",
    "   \\end{bmatrix}\n",
    "   \\begin{bmatrix}\n",
    "     \\Sigma_1 & 0 \\\\\n",
    "     0 & \\Sigma_2\n",
    "   \\end{bmatrix}\n",
    "   \\begin{bmatrix}\n",
    "     V_1^{\\operatorname{T}} \\\\\n",
    "     V_2^{\\operatorname{T}}\n",
    "   \\end{bmatrix}.\n",
    "   $$"
   ]
  },
  {
   "cell_type": "markdown",
   "id": "1fe0dd32",
   "metadata": {
    "slideshow": {
     "slide_type": "fragment"
    }
   },
   "source": [
    "3. Define\n",
    "\n",
    "   $$\n",
    "   W := R^{\\operatorname{T}} V_1 \\Sigma_1^{-1/2}, \\quad\n",
    "   V := S^{\\operatorname{T}} U_1 \\Sigma_1^{-1/2}.\n",
    "   $$\n",
    "4. Then the reduced-order model is\n",
    "   $(W^{\\operatorname{T}} A V, W^{\\operatorname{T}} B, C V)$."
   ]
  },
  {
   "cell_type": "markdown",
   "id": "1dbc443d",
   "metadata": {
    "slideshow": {
     "slide_type": "subslide"
    }
   },
   "source": [
    "#### Properties\n",
    "\n",
    "- Lyapunov balancing **preserves asymptotic stability**.\n",
    "- We have the **a priori error bound**:\n",
    "  $$\n",
    "  \\left\\lVert H - \\hat{H} \\right\\rVert_{\\mathcal{H}_{\\infty}}\n",
    "  \\le\n",
    "  2 \\sum\\limits_{k = r + 1}^{n} \\sigma_{k}\n",
    "  $$"
   ]
  },
  {
   "cell_type": "markdown",
   "id": "046eca58",
   "metadata": {
    "slideshow": {
     "slide_type": "subslide"
    }
   },
   "source": [
    "#### Variants (pyMOR: [`PRBTReductor`](https://docs.pymor.org/2023-1-0/autoapi/pymor/reductors/bt/index.html?highlight=btreductor#pymor.reductors.bt.PRBTReductor), [`BRBTReductor`](https://docs.pymor.org/2023-1-0/autoapi/pymor/reductors/bt/index.html?highlight=btreductor#pymor.reductors.bt.BRBTReductor), [`LQGBTReductor`](https://docs.pymor.org/2023-1-0/autoapi/pymor/reductors/bt/index.html?highlight=btreductor#pymor.reductors.bt.LQGBTReductor))\n",
    "\n",
    "Other versions for special classes of systems or applications exist, such as\n",
    "\n",
    "- **positive-real balancing** (passivity-preserving),\n",
    "- **bounded-real balancing** (contractivity-preserving),\n",
    "- **linear-quadratic Gaussian balancing**\n",
    "  (stability preserving, aims at low-order output feedback controllers).\n",
    "\n",
    "The given ones all compute $P, Q$ as solutions of ***algebraic Riccati\n",
    "equations*** of the form:\n",
    "\n",
    "$$\n",
    "\\begin{align*}\n",
    "  0\n",
    "  & =\n",
    "    \\tilde{A} P \\tilde{E}^{\\operatorname{T}}\n",
    "    + \\tilde{E} P \\tilde{A}^{\\operatorname{T}}\n",
    "    + \\tilde{B} \\tilde{B}^{\\operatorname{T}}\n",
    "    \\pm \\tilde{E} P \\tilde{C}^{\\operatorname{T}} \\tilde{C} P \\tilde{E}^{\\operatorname{T}} \\\\\n",
    "  0\n",
    "  & =\n",
    "    \\tilde{A}^{\\operatorname{T}} Q \\tilde{E}\n",
    "    + \\tilde{E}^{\\operatorname{T}} Q \\tilde{A}\n",
    "    + \\tilde{C}^{\\operatorname{T}} \\tilde{C}\n",
    "    \\pm \\tilde{E}^{\\operatorname{T}} Q \\tilde{B} \\tilde{B}^{\\operatorname{T}} Q \\tilde{E}.\n",
    "\\end{align*}\n",
    "$$"
   ]
  },
  {
   "cell_type": "code",
   "execution_count": null,
   "id": "1166d713",
   "metadata": {
    "slideshow": {
     "slide_type": "subslide"
    }
   },
   "outputs": [],
   "source": [
    "from pymor.reductors.bt import BTReductor\n",
    "\n",
    "bt = BTReductor(fom)\n",
    "rom_bt = bt.reduce(10)"
   ]
  },
  {
   "cell_type": "code",
   "execution_count": null,
   "id": "8e0db03a",
   "metadata": {
    "slideshow": {
     "slide_type": "subslide"
    }
   },
   "outputs": [],
   "source": [
    "_ = fom.transfer_function.mag_plot(w, label='FOM')\n",
    "_ = rom_mt.transfer_function.mag_plot(w, label='MT')\n",
    "_ = rom_bt.transfer_function.mag_plot(w, label='BT')\n",
    "_ = plt.legend()"
   ]
  },
  {
   "cell_type": "code",
   "execution_count": null,
   "id": "a2774571",
   "metadata": {
    "slideshow": {
     "slide_type": "subslide"
    }
   },
   "outputs": [],
   "source": [
    "err_bt = fom - rom_bt"
   ]
  },
  {
   "cell_type": "code",
   "execution_count": null,
   "id": "6567c6aa",
   "metadata": {
    "slideshow": {
     "slide_type": "-"
    }
   },
   "outputs": [],
   "source": [
    "_ = err_mt.transfer_function.mag_plot(w, label='MT')\n",
    "_ = err_bt.transfer_function.mag_plot(w, label='BT')\n",
    "_ = plt.legend()"
   ]
  },
  {
   "cell_type": "markdown",
   "id": "6b5de2a2",
   "metadata": {
    "slideshow": {
     "slide_type": "subslide"
    }
   },
   "source": [
    "#### Exercise\n",
    "\n",
    "- Aside from a desired order, the\n",
    "  [`reduce`](https://docs.pymor.org/2023-1-0/autoapi/pymor/reductors/bt/index.html?highlight=btreductor#pymor.reductors.bt.GenericBTReductor.reduce)\n",
    "  method of the\n",
    "  [`BTReductor`](https://docs.pymor.org/2023-1-0/autoapi/pymor/reductors/bt/index.html?highlight=btreductor#pymor.reductors.bt.BTReductor)\n",
    "  allows for specifying a truncation tolerance based on the a priori error\n",
    "  bound.\n",
    "  Use the `bt` instance of the\n",
    "  [`BTReductor`](https://docs.pymor.org/2023-1-0/autoapi/pymor/reductors/bt/index.html?highlight=btreductor#pymor.reductors.bt.BTReductor)\n",
    "  to compute a ROM based on a specified tolerance `tol=1e-5`.\n",
    "- Use the\n",
    "  [`LQGBTReductor`](https://docs.pymor.org/2023-1-0/autoapi/pymor/reductors/bt/index.html?highlight=btreductor#pymor.reductors.bt.LQGBTReductor)\n",
    "  to reduce `fom` using a truncation tolerance of `tol=1e-5`.\n",
    "  Check the dimension of the ROM.\n",
    "- Compare the $\\mathcal{H}_{2}$-norms and orders of the ROMs obtained by both BT\n",
    "  variants."
   ]
  },
  {
   "cell_type": "code",
   "execution_count": null,
   "id": "8ca00b12",
   "metadata": {
    "slideshow": {
     "slide_type": "-"
    }
   },
   "outputs": [],
   "source": []
  },
  {
   "cell_type": "markdown",
   "id": "8a186e9d",
   "metadata": {
    "slideshow": {
     "slide_type": "subslide"
    }
   },
   "source": [
    "## Transfer Function Approximation\n",
    "\n",
    "The transfer function $H$ is a degree-$n$ rational function\n",
    "\n",
    "$$\n",
    "H(s) = \\frac{P(s)}{Q(s)}, \\quad P,Q \\text{ polynomials}\n",
    "$$\n",
    "\n",
    "such that deg$(P) \\leq n$ and deg$(Q) \\leq n$."
   ]
  },
  {
   "cell_type": "markdown",
   "id": "701bfa42",
   "metadata": {
    "slideshow": {
     "slide_type": "fragment"
    }
   },
   "source": [
    "MOR via rational approximation:\n",
    "Find a degree-$r$ rational function $\\hat{H}$ with $r \\ll n$ such that\n",
    "\n",
    "$$\n",
    "H \\approx \\hat{H}\n",
    "$$"
   ]
  },
  {
   "cell_type": "markdown",
   "id": "4129add7",
   "metadata": {
    "slideshow": {
     "slide_type": "subslide"
    }
   },
   "source": [
    "### Rational Interpolation\n",
    "\n",
    "Pick some complex values $\\sigma_1, \\ldots, \\sigma_r$ and enforce interpolation\n",
    "\n",
    "$$\n",
    "\\hat{H}(\\sigma_j) = H(\\sigma_j) \\quad \\text{for } j = 1, \\ldots, r.\n",
    "$$"
   ]
  },
  {
   "cell_type": "markdown",
   "id": "978eb8a4",
   "metadata": {
    "slideshow": {
     "slide_type": "subslide"
    }
   },
   "source": [
    "Can also pick tangential directions $b_1, \\ldots, b_r \\in \\mathbb{C}^m$ and\n",
    "$c_1, \\ldots, c_r \\in \\mathbb{C}^p$ and enforce bitangential Hermite\n",
    "interpolation\n",
    "\n",
    "$$\n",
    "\\begin{align*}\n",
    "  \\hat{H}(\\sigma_j)b_j &= H(\\sigma_j) b_j, \\\\\n",
    "  c_j^* \\hat{H}(\\sigma_j) &= c_j^* H(\\sigma_j), \\\\\n",
    "  c_j^* \\hat{H}'(\\sigma_j) b_j &= c_j^* H'(\\sigma_j) b_j, \\\\\n",
    "\\end{align*}\n",
    "\\quad \\text{for } j=1,\\ldots,r.\n",
    "$$"
   ]
  },
  {
   "cell_type": "markdown",
   "id": "e8564963",
   "metadata": {
    "slideshow": {
     "slide_type": "subslide"
    }
   },
   "source": [
    "### Interpolation via Projection\n",
    "\n",
    "Given $E,A,B,C$, how to enforce interpolation?\n",
    "\n",
    "> ### Theorem\n",
    ">\n",
    "> Let $\\hat{H}$ be the transfer function of the ROM obtained from a Petrov\n",
    "> Galerkin projection using $V$ and $W$.\n",
    "> For $b \\in \\mathbb{C}^m$, $c \\in \\mathbb{C}^p$ and $\\sigma \\in \\mathbb{C}$ we\n",
    "> have\n",
    ">\n",
    "> 1. $(\\sigma E - A)^{-1} B b \\in \\mathrm{Range}(V)$ implies $H(\\sigma) b = \\hat{H}(\\sigma) b$\n",
    "> 2. $(\\sigma E - A)^{-*} C^* c \\in \\mathrm{Range}(W)$ implies $c^* H(\\sigma) = c^* \\hat{H}(\\sigma)$\n",
    "> 3. If 1. and 2. are satisfied, then $c^* H'(\\sigma) b = c^* \\hat{H}'(\\sigma) b$\n",
    "\n",
    "Using bases $V$ and $W$ for rational Krylov subspaces allows for interpolatory\n",
    "MOR [[Antoulas/Beattie/Güğercin '20]](https://doi.org/10.1137/1.9781611976083).\n",
    "\n",
    "In pyMOR\n",
    "[`LTIBHIReductor`](https://docs.pymor.org/2023-1-0/autoapi/pymor/reductors/interpolation/index.html?highlight=ltibhired#pymor.reductors.interpolation.LTIBHIReductor)\n",
    "is based on projection and\n",
    "[`TFBHIReductor`](https://docs.pymor.org/2023-1-0/autoapi/pymor/reductors/interpolation/index.html?highlight=tfbhi#pymor.reductors.interpolation.TFBHIReductor)\n",
    "only uses evaluations of the transfer function $H$."
   ]
  },
  {
   "cell_type": "code",
   "execution_count": null,
   "id": "76c70d07",
   "metadata": {
    "slideshow": {
     "slide_type": "subslide"
    }
   },
   "outputs": [],
   "source": [
    "from pymor.reductors.interpolation import LTIBHIReductor\n",
    "\n",
    "interp = LTIBHIReductor(fom)\n",
    "sigma = np.array([50, 100, 200, 400, 800])\n",
    "sigma = np.concatenate((1j * sigma, -1j * sigma))\n",
    "b = np.ones((len(sigma), fom.dim_input))\n",
    "c = np.ones((len(sigma), fom.dim_output))\n",
    "rom_interp = interp.reduce(sigma, b, c)"
   ]
  },
  {
   "cell_type": "code",
   "execution_count": null,
   "id": "922e1a5f",
   "metadata": {
    "slideshow": {
     "slide_type": "subslide"
    }
   },
   "outputs": [],
   "source": [
    "_ = fom.transfer_function.mag_plot(w, label='FOM')\n",
    "_ = rom_mt.transfer_function.mag_plot(w, label='MT')\n",
    "_ = rom_bt.transfer_function.mag_plot(w, label='BT')\n",
    "_ = rom_interp.transfer_function.mag_plot(w, label='Interpolation')\n",
    "_ = plt.legend()"
   ]
  },
  {
   "cell_type": "code",
   "execution_count": null,
   "id": "7907ed7f",
   "metadata": {
    "slideshow": {
     "slide_type": "subslide"
    }
   },
   "outputs": [],
   "source": [
    "err_interp = fom - rom_interp"
   ]
  },
  {
   "cell_type": "code",
   "execution_count": null,
   "id": "1ccb2170",
   "metadata": {
    "slideshow": {
     "slide_type": "-"
    }
   },
   "outputs": [],
   "source": [
    "_ = err_mt.transfer_function.mag_plot(w, label='MT')\n",
    "_ = err_bt.transfer_function.mag_plot(w, label='BT')\n",
    "_ = err_interp.transfer_function.mag_plot(w, label='Interpolation')\n",
    "_ = plt.legend()"
   ]
  },
  {
   "cell_type": "markdown",
   "id": "c1f1cad0",
   "metadata": {
    "slideshow": {
     "slide_type": "subslide"
    }
   },
   "source": [
    "### Iterative Rational Krylov Algorithm (IRKA)\n",
    "\n",
    "> #### $\\mathcal{H}_2$-optimal MOR problem\n",
    ">\n",
    "> Find a stable $\\hat{H}$ of order $r$ such that\n",
    "> $\\lVert H - \\hat{H} \\rVert_{\\mathcal{H}_{2}}$\n",
    "> is minimized."
   ]
  },
  {
   "cell_type": "markdown",
   "id": "6acaf9d0",
   "metadata": {
    "slideshow": {
     "slide_type": "fragment"
    }
   },
   "source": [
    "> #### Interpolatory necessary $\\mathcal{H}_2$-optimality conditions\n",
    ">\n",
    "> Let $\\hat{H}(s) = \\sum_{i = 1}^r \\frac{\\phi_i}{s - \\lambda_i}$ be an\n",
    "> $\\mathcal{H}_2$-optimal reduced-order model for $H$.\n",
    "> Then\n",
    "> \\begin{align*}\n",
    "    H\\!\\left(-\\overline{\\lambda_i}\\right)\n",
    "    & = \\hat{H}\\!\\left(-\\overline{\\lambda_i}\\right), \\\\\n",
    "    H'\\!\\left(-\\overline{\\lambda_i}\\right)\n",
    "    & = \\hat{H}'\\!\\left(-\\overline{\\lambda_i}\\right),\n",
    "  \\end{align*}\n",
    "> for $i = 1, 2, \\ldots, r$."
   ]
  },
  {
   "cell_type": "markdown",
   "id": "7d5aa397",
   "metadata": {
    "slideshow": {
     "slide_type": "subslide"
    }
   },
   "source": [
    "> ***Hermite interpolation*** of the transfer function is necessary for\n",
    "> $\\mathcal{H}_2$-optimality."
   ]
  },
  {
   "cell_type": "markdown",
   "id": "65440bed",
   "metadata": {
    "slideshow": {
     "slide_type": "fragment"
    }
   },
   "source": [
    "> #### IRKA (pyMOR: [`IRKAReductor`](https://docs.pymor.org/2023-1-0/autoapi/pymor/reductors/h2/index.html?highlight=irkared#pymor.reductors.h2.IRKAReductor))\n",
    ">\n",
    "> Fixed point iteration based on interpolatory necessary optimality conditions."
   ]
  },
  {
   "cell_type": "code",
   "execution_count": null,
   "id": "9feff866",
   "metadata": {
    "slideshow": {
     "slide_type": "subslide"
    }
   },
   "outputs": [],
   "source": [
    "from pymor.reductors.h2 import IRKAReductor\n",
    "\n",
    "irka = IRKAReductor(fom)\n",
    "rom_irka = irka.reduce(10)"
   ]
  },
  {
   "cell_type": "code",
   "execution_count": null,
   "id": "0b9fb638",
   "metadata": {
    "slideshow": {
     "slide_type": "subslide"
    }
   },
   "outputs": [],
   "source": [
    "_ = fom.transfer_function.mag_plot(w, label='FOM')\n",
    "_ = rom_mt.transfer_function.mag_plot(w, label='MT')\n",
    "_ = rom_bt.transfer_function.mag_plot(w, label='BT')\n",
    "_ = rom_interp.transfer_function.mag_plot(w, label='Interpolation')\n",
    "_ = rom_irka.transfer_function.mag_plot(w, label='IRKA')\n",
    "_ = plt.legend()"
   ]
  },
  {
   "cell_type": "code",
   "execution_count": null,
   "id": "c2ef47be",
   "metadata": {
    "slideshow": {
     "slide_type": "subslide"
    }
   },
   "outputs": [],
   "source": [
    "err_irka = fom - rom_irka"
   ]
  },
  {
   "cell_type": "code",
   "execution_count": null,
   "id": "a21a2d81",
   "metadata": {
    "slideshow": {
     "slide_type": "-"
    }
   },
   "outputs": [],
   "source": [
    "_ = err_mt.transfer_function.mag_plot(w, label='MT')\n",
    "_ = err_bt.transfer_function.mag_plot(w, label='BT')\n",
    "_ = err_interp.transfer_function.mag_plot(w, label='Interpolation')\n",
    "_ = err_irka.transfer_function.mag_plot(w, label='IRKA')\n",
    "_ = plt.legend()"
   ]
  },
  {
   "cell_type": "markdown",
   "id": "d33d06e8",
   "metadata": {
    "slideshow": {
     "slide_type": "subslide"
    }
   },
   "source": [
    "#### Exercise\n",
    "\n",
    "- Compute 5 random values `sigma` in the interval $[0,1000]$ using\n",
    "  `np.random.rand`.\n",
    "  Then use the\n",
    "  [`TFBHIReductor`](https://docs.pymor.org/2023-1-0/autoapi/pymor/reductors/interpolation/index.html?highlight=tfbhi#pymor.reductors.interpolation.TFBHIReductor)\n",
    "  to compute a ROM which interpolates `fom.transfer_function` at the random\n",
    "  values and its complex conjugates along the imaginary axis (i.e., use\n",
    "  interpolation points `np.concatenate((1j * sigma, -1j * sigma))`).\n",
    "  Compute the relative $\\mathcal{H}_{2}$-error of the resulting ROM.\n",
    "  Compare it to the relative $\\mathcal{H}_{2}$-error of the interpolation points\n",
    "  chosen in the example above where we chose\n",
    "  `sigma = np.array([50, 100, 200, 400, 800])`.\n",
    "- Repeat the previous computations with 10 random values\n",
    "  (i.e., a total of 20 interpolation points).\n",
    "- Use the `sigma` specified below as an initial guess for the\n",
    "  [`reduce`](https://docs.pymor.org/2023-1-0/autoapi/pymor/reductors/h2/index.html?highlight=irkared#pymor.reductors.h2.IRKAReductor.reduce)\n",
    "  method of the\n",
    "  [`IRKAReductor`](https://docs.pymor.org/2023-1-0/autoapi/pymor/reductors/h2/index.html?highlight=irkared#pymor.reductors.h2.IRKAReductor):\n",
    "\n",
    "  ```\n",
    "  sigma = np.array([50, 100, 200, 400, 800]);\n",
    "  sigma = np.concatenate((1j * sigma, -1j * sigma))\n",
    "  ```"
   ]
  },
  {
   "cell_type": "code",
   "execution_count": null,
   "id": "11d84de6",
   "metadata": {},
   "outputs": [],
   "source": []
  },
  {
   "cell_type": "markdown",
   "id": "a7f8c30f",
   "metadata": {
    "slideshow": {
     "slide_type": "subslide"
    }
   },
   "source": [
    "<center>Questions?</center>"
   ]
  }
 ],
 "metadata": {
  "kernelspec": {
   "display_name": "Python 3 (ipykernel)",
   "language": "python",
   "name": "python3"
  }
 },
 "nbformat": 4,
 "nbformat_minor": 5
}
